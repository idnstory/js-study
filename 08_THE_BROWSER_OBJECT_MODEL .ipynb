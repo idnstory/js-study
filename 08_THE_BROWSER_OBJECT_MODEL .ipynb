{
 "cells": [
  {
   "cell_type": "markdown",
   "metadata": {},
   "source": [
    "# 08. 브라우저 객체 모델  \n",
    "\n",
    "#### 이 장에서 다루는 내용\n",
    "- BOM의 핵심인 window 객체에 대한 이해\n",
    "- 창과 프레임, 팝업 컨트롤\n",
    "- location 객체에서 얻는 페이지 정보\n",
    "- navigator 객체를 통한 브라우저 이해  \n",
    "\n",
    "\n",
    "\n",
    "## 8.1 window 객체  \n",
    "\n",
    "BOM의 핵심에는 브라우저의 인스턴스인 window 객체가 있다.  \n",
    "window 객체는 브라우저 창의 자바스크립트 인터페이스 구실을 하고 다른 한편으로는 ECMAScript Global 객체로 기능한다.  \n",
    "\n",
    "\n",
    "### 8.1.1 전역 스코프\n",
    "\n",
    "window 객체가 ECMAScript의 Global 객체 구실을 하므로 전역에서 선언한 변수와 함수는 모두 window 객체의 프로퍼티 및 메서드가 된다.  \n",
    "\n"
   ]
  },
  {
   "cell_type": "code",
   "execution_count": 1,
   "metadata": {
    "scrolled": true
   },
   "outputs": [
    {
     "ename": "ReferenceError",
     "evalue": "window is not defined",
     "output_type": "error",
     "traceback": [
      "evalmachine.<anonymous>:6",
      "console.log(window.age);",
      "            ^",
      "",
      "ReferenceError: window is not defined",
      "    at evalmachine.<anonymous>:6:13",
      "    at ContextifyScript.Script.runInThisContext (vm.js:50:33)",
      "    at Object.runInThisContext (vm.js:139:38)",
      "    at run ([eval]:1054:15)",
      "    at onRunRequest ([eval]:888:18)",
      "    at onMessage ([eval]:848:13)",
      "    at emitTwo (events.js:126:13)",
      "    at process.emit (events.js:214:7)",
      "    at emit (internal/child_process.js:772:12)",
      "    at _combinedTickCallback (internal/process/next_tick.js:141:11)"
     ]
    }
   ],
   "source": [
    "// 브라우저 콘솔에서 실행가능 (커널에는 window 객체 x)\n",
    "var age = 29;\n",
    "function sayAge () {\n",
    "    console.log(this.age);\n",
    "}\n",
    "\n",
    "console.log(window.age);  // 29\n",
    "sayAge();                 // 29\n",
    "window.sayAge();          // 29"
   ]
  },
  {
   "cell_type": "markdown",
   "metadata": {},
   "source": [
    "선언한적 없는 변수에 접급하려 하면 에러가 발생하지만 선언하지 않았을 가능성이 있는 변수의 존재 여부는 window 객체를 통해 확인 가능하다.  "
   ]
  },
  {
   "cell_type": "code",
   "execution_count": null,
   "metadata": {},
   "outputs": [],
   "source": [
    "// oldValue를 선언한적 없으므로 에러 발생\n",
    "var newValue = oldValue\n",
    "\n",
    "// 아래는 프로퍼티 검색이므로 에러가 발생하지 않음\n",
    "var newValue2 = window.oldVlaue; // undefined"
   ]
  },
  {
   "cell_type": "markdown",
   "metadata": {},
   "source": [
    "### 8.1.2 창 사이의 관계와 프레임  \n",
    "\n",
    "frame 태그로 나누어진 창간의 관계를 설명하는 장입니다.  \n",
    "html5에서는 frame 태그를 지원하지 않으므로 해당 장은 PASS~ \n",
    "\n"
   ]
  },
  {
   "cell_type": "markdown",
   "metadata": {},
   "source": [
    "### 8.1.3 창의 위치  \n",
    "\n",
    "창의 위치를 가져오거나 설정하는 프로퍼티와 메서드도 다양하다.  \n",
    "window.scrollTop \n",
    "window.screenLeft 등 다양한 프로퍼티가 존재한다.  \n",
    "  \n",
    "https://www.w3schools.com/jsref/prop_win_screenleft.asp\n",
    "\n"
   ]
  },
  {
   "cell_type": "markdown",
   "metadata": {},
   "source": [
    "### 8.1.4 창크기  \n",
    "\n",
    "창 크기를 알아내는 방법은 브라우져마다 다르다.  \n",
    "IE9 이상, 파이어폭스, 사파리, 오페라, 크롬 모두 innewWidth, innerHeight, outerWidth, outerHeight 네 가지 프로퍼티를 지원합니다.  \n",
    "오페라에서 해당 속성의 값은 페이지 뷰포트 크기를 나타낸다.  \n",
    "테두리와 툴바는 포함되지 않는다.  \n",
    "\n",
    "https://www.w3schools.com/jsref/prop_win_innerheight.asp  \n",
    "\n"
   ]
  },
  {
   "cell_type": "markdown",
   "metadata": {},
   "source": [
    "### 8.1.5 내비게이션과 열기  \n",
    "\n",
    "window.open() 메서드는 URL로 이동한 후 브라우저 창을 새로 연다.  \n",
    "이 메서드는 이동한 URL, 대상 창, 기능을 나타내는 문자열, 마지막으로 새 페이지가 브라우저 히스토리에 현재 페이지를 대체할지 나타내는 불리언 값 네가지 매개변수를 받는다.  \n",
    "일반적으로 세 번째 매개변수까지만 사용하며, 마지막 매개변수는 새 창을 열 때는 적용되지 않는다.    \n",
    "https://www.w3schools.com/jsref/met_win_open.asp   \n",
    "https://offbyone.tistory.com/312\n",
    "\n"
   ]
  },
  {
   "cell_type": "markdown",
   "metadata": {},
   "source": [
    "window.open() 메서드는 새로 생성한 창에 대한 참조를 반환한다.  \n",
    "이 객체는 다른 window 객체와 같지만 좀 더 세밀히 조절할 수 있다.  \n",
    "예를 들어 일부 브라우저는 기본적으로 주요 브라우저 창의 위치나 크기를 스크립트에서 바꿀수 없게 금지하지만 window.open() 에서 생성한 창은 가능하다.  \n"
   ]
  },
  {
   "cell_type": "code",
   "execution_count": null,
   "metadata": {},
   "outputs": [],
   "source": [
    "// 브라우져 콘솔에서 테스트 하세요.\n",
    "var wroxWin = window.open(\"\", \"\", \"height=400, width=400, top: 10, left=10, resizable=yes\")\n",
    "\n",
    "// 크기조절\n",
    "wroxWin.resizeTo(500, 500);\n",
    "\n",
    "// 이동\n",
    "wroxWin.moveTo(100, 100);\n",
    "\n",
    "// 창닫기 \n",
    "wroxWin.close();"
   ]
  },
  {
   "cell_type": "markdown",
   "metadata": {},
   "source": [
    "#### 팝업 차단  \n",
    "\n",
    "대부분의 브라우저는 팝업 차단 소프트웨어를 내장하고 있다.  \n",
    "브라우저 차단기가 동작했다면 window.open()은 대게 null을 반환한다.  \n",
    "아래는 반환값을 체크해서 팝업이 차단됐는지 알 수 있는 예제이다.  \n",
    "\n"
   ]
  },
  {
   "cell_type": "code",
   "execution_count": 2,
   "metadata": {},
   "outputs": [
    {
     "ename": "ReferenceError",
     "evalue": "window is not defined",
     "output_type": "error",
     "traceback": [
      "evalmachine.<anonymous>:1",
      "var worxWin = window.open(\"\");",
      "              ^",
      "",
      "ReferenceError: window is not defined",
      "    at evalmachine.<anonymous>:1:15",
      "    at ContextifyScript.Script.runInThisContext (vm.js:50:33)",
      "    at Object.runInThisContext (vm.js:139:38)",
      "    at run ([eval]:1054:15)",
      "    at onRunRequest ([eval]:888:18)",
      "    at onMessage ([eval]:848:13)",
      "    at emitTwo (events.js:126:13)",
      "    at process.emit (events.js:214:7)",
      "    at emit (internal/child_process.js:772:12)",
      "    at _combinedTickCallback (internal/process/next_tick.js:141:11)"
     ]
    }
   ],
   "source": [
    "var worxWin = window.open(\"\");\n",
    "if (worxWin === null) {\n",
    "    console.log('is blocked!')\n",
    "}"
   ]
  },
  {
   "cell_type": "markdown",
   "metadata": {},
   "source": [
    "### 8.1.6 인터벌과 타임아웃  \n",
    "\n",
    "브라우저에서 자바스크립트는 단일 스레드로 실행되지만 타임아웃과 인터벌을 통해 코드가 특정 시간에 실행되게끔 조절할 수 있다.  \n",
    "\n"
   ]
  },
  {
   "cell_type": "code",
   "execution_count": 5,
   "metadata": {},
   "outputs": [],
   "source": [
    "// 타임아웃 설정\n",
    "var timeoutId = setTimeout(function () { console.log('hi!') }, 1000);\n",
    "\n",
    "// 타임아웃 취소\n",
    "clearTimeout(timeoutId)"
   ]
  },
  {
   "cell_type": "markdown",
   "metadata": {},
   "source": [
    "인터벌은 타임아웃과 비슷하지만 페이지가 종료되거나 인터벌을 취소하기 전에는 일정시간마다 코드를 반복 실행한다는 점이 다르다.  \n"
   ]
  },
  {
   "cell_type": "code",
   "execution_count": 7,
   "metadata": {},
   "outputs": [
    {
     "data": {
      "text/plain": [
       "Timeout {\n",
       "  _called: false,\n",
       "  _idleTimeout: 500,\n",
       "  _idlePrev: \n",
       "   TimersList {\n",
       "     _idleNext: [Circular],\n",
       "     _idlePrev: [Circular],\n",
       "     _timer: Timer { '0': [Function: listOnTimeout], _list: [Circular] },\n",
       "     _unrefed: false,\n",
       "     msecs: 500,\n",
       "     nextTick: false },\n",
       "  _idleNext: \n",
       "   TimersList {\n",
       "     _idleNext: [Circular],\n",
       "     _idlePrev: [Circular],\n",
       "     _timer: Timer { '0': [Function: listOnTimeout], _list: [Circular] },\n",
       "     _unrefed: false,\n",
       "     msecs: 500,\n",
       "     nextTick: false },\n",
       "  _idleStart: 5255922,\n",
       "  _onTimeout: [Function: incrementNumber],\n",
       "  _timerArgs: undefined,\n",
       "  _repeat: 500,\n",
       "  _destroyed: false,\n",
       "  [Symbol(asyncId)]: 55,\n",
       "  [Symbol(triggerAsyncId)]: 52 }"
      ]
     },
     "execution_count": 7,
     "metadata": {},
     "output_type": "execute_result"
    },
    {
     "name": "stdout",
     "output_type": "stream",
     "text": [
      "done\n"
     ]
    }
   ],
   "source": [
    "var num = 10;\n",
    "var max = 10;\n",
    "var intervalId = null;\n",
    "\n",
    "function incrementNumber () {\n",
    "    console.log('num', num)\n",
    "    num++\n",
    "    if (num === max) {\n",
    "        d(intervalId);\n",
    "        console.log(\"done\")\n",
    "    }\n",
    "}\n",
    "\n",
    "intervalId = setInterval(incrementNumber, 500);"
   ]
  },
  {
   "cell_type": "markdown",
   "metadata": {},
   "source": [
    "### 8.1.7 시스템 대화상자  \n",
    "\n",
    "alert()와 confirm(), prompt() 메서드를 통해 사용자에게 시스템 대화상자를 표시합니다.  \n",
    "이들 대화상자는 현재 브루아저에 표시된 웹페이지와는 무관하며 HTML이 들어있지도 않다.  \n",
    "대화상자 외관은 CSS가 아니라 운영체제/브라우저 설정에 따라 다르다.  \n",
    "\n",
    "https://www.w3schools.com/js/js_popup.asp\n",
    "\n"
   ]
  },
  {
   "cell_type": "markdown",
   "metadata": {},
   "source": [
    "## 8.2 location 객체  \n",
    "\n",
    "location은 BOM에서 가장 유용한 객체 중 하나이다.  \n",
    "location 객체는 현재 창에 불러온 문서 정보와 함께 일반적인 내비게이션 기능을 제공한다.  \n",
    "location 객체는 window의 프로퍼티인 동시에 document의 프로퍼티이다.(같은 객체를 가리킴)  \n",
    "\n",
    "https://iamawebdeveloper.tistory.com/41  \n",
    "\n"
   ]
  },
  {
   "cell_type": "code",
   "execution_count": null,
   "metadata": {},
   "outputs": [],
   "source": [
    "// location 객체의 마지막 메서드\n",
    "window.reload(); // 가능하면 캐시에서\n",
    "window.reload(true); // 항상 서버에서"
   ]
  },
  {
   "cell_type": "markdown",
   "metadata": {},
   "source": [
    "## 8.3 navigator 객체  \n",
    "\n",
    "\n",
    "브라우저에 따라 navigator 객체에서 지원하는 프로퍼티가 다르다.  \n",
    "navigator 객체의 프로퍼티는 일반적으로 웹 페이지를 실행중인 브라우저 타입을 판단하는데 사용한다.  \n",
    "\n",
    "\n",
    "https://www.w3schools.com/jsref/obj_navigator.asp \n",
    "\n",
    "\n",
    "### 8.3.1 플러그인 감지  \n",
    "\n",
    "스크립트로 가장 많이 탐지하는 것 중 하나는 브라우저에 특정 플러그인이 설치여부 확인이다. \n",
    "\n"
   ]
  },
  {
   "cell_type": "code",
   "execution_count": null,
   "metadata": {},
   "outputs": [],
   "source": [
    "// 배열형태로 정보를 반환한다. \n",
    "naviagator.plugin"
   ]
  },
  {
   "cell_type": "markdown",
   "metadata": {},
   "source": [
    "### 8.3.2 전처리기 등록  \n",
    "\n",
    "브라우져마다 다르다.  \n",
    "아래는 크롬에 있는 registerProtocolHandler 설명이다.  \n",
    "\n",
    "\n",
    "https://developer.mozilla.org/ko/docs/Web/API/Navigator/registerProtocolHandler  \n",
    "\n"
   ]
  },
  {
   "cell_type": "markdown",
   "metadata": {},
   "source": [
    "## 8.4 screen 객체  \n",
    "\n",
    "screen 객체 역시 window의 프로퍼티인데, 프로그램 관련 용도가 거의 없는 몇 안되는 자바스크립티 객체 중 하나이다.  \n",
    "이 객체에는 픽셀 저비와 높이 등 클라이언트 화면에 관한 정보가 들어있다. \n",
    "\n",
    "http://tcpschool.com/javascript/js_bom_screen  \n",
    "\n"
   ]
  },
  {
   "cell_type": "markdown",
   "metadata": {},
   "source": [
    "## 8.5 history 객체  \n",
    "\n",
    "history 객체는 창을 첫 번째 연 이후 사용자의 내비게이션 히스토리를 보관한다.  \n",
    "history는 window의 프로퍼티이므로 브라우저 창, 탭, 프레임은 가각 자신의 window 객체에 속한 history 객체를 가진다.  "
   ]
  },
  {
   "cell_type": "code",
   "execution_count": null,
   "metadata": {},
   "outputs": [],
   "source": [
    "// 한 페이지 뒤로 \n",
    "history.go(-1);\n",
    "\n",
    "// 한 페이지 앞으로\n",
    "history.go(1);\n",
    "\n",
    "// 두 페이지 앞으로\n",
    "history.go(2);\n",
    "\n",
    "// 한 페이지 뒤로\n",
    "history.back();\n",
    "\n",
    "// 한 페이지 앞으로\n",
    "history.forward();"
   ]
  }
 ],
 "metadata": {
  "kernelspec": {
   "display_name": "Javascript (Node.js)",
   "language": "javascript",
   "name": "javascript"
  },
  "language_info": {
   "file_extension": ".js",
   "mimetype": "application/javascript",
   "name": "javascript",
   "version": "8.9.4"
  }
 },
 "nbformat": 4,
 "nbformat_minor": 2
}

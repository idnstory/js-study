{
 "cells": [
  {
   "cell_type": "markdown",
   "metadata": {},
   "source": [
    "# 4장 변수와 스코프, 메모리\n",
    "\n",
    "#### 이 장에서 다루는 내용\n",
    "* 변수의 원시 값과 참조 값\n",
    "* 실행 컨텍스트의 이해\n",
    "* 가비지 컬렉션의 이해\n",
    "    \n",
    "    \n",
    "\n",
    "## 4.1 원시 값과 참조 값\n",
    "\n",
    "ECMAScript의 변수는 원시 값과 참조 값 두 가지 타입의 데이터를 저장할 수 있다.   \n",
    "변수에 값을 할당하면 자바스크립트 엔진은 해당 값이 원시 데이터인지 참조 데이터인지를 판단한다.  \n",
    "\n",
    "#### 원시 값\n",
    "단순한 데이터로 Undefined, Null, Boolean, Number, String이 해당된다.   \n",
    "변수에 저장된 실제 값을 조작한다.  \n",
    "\n",
    "#### 참조 값\n",
    "여러 값으로 구성되는 객체이다.   \n",
    "메모리에 저장된 객체이고 자바스크립트는 메모리 위치에 직접 접근하는 것을 허용하지 않으므로 객체의 메모리 공간을 직접 조작하는 일은 불가능하다.  \n",
    "따라서 객체 조작 시 객체 자체를 조작하는것이 아닌 객체에 대한 '참조'를 조작한다.          \n",
    "\n",
    "\n",
    "\n",
    "### 4.1.1 동적 프로퍼티\n",
    "\n",
    "원시 값과 참조 값의 정의는 비슷하게 이루어진다.  \n",
    "변수를 생성하고 값을 할당한다. 하지만 일단 값이 변수에 저장되면 그 값으로 할 수 있는 일은 사뭇 다르다.  \n",
    "참조 값을 다룰 때는 언제든 프로퍼티와 메서드를 추가하거나 바꾸고 삭제할 수 있다.  \n",
    "    \n",
    "    \n",
    "#### 예제1"
   ]
  },
  {
   "cell_type": "code",
   "execution_count": null,
   "metadata": {},
   "outputs": [],
   "source": [
    "// 참조 값\n",
    "var person = new Object();\n",
    "console.log(person)\n",
    "person.name = 'SehunJeong';\n",
    "console.log(person.name);"
   ]
  },
  {
   "cell_type": "code",
   "execution_count": null,
   "metadata": {
    "scrolled": true
   },
   "outputs": [],
   "source": [
    "// 원시 값\n",
    "var name = 'SehunJeong';\n",
    "name.age = 28;\n",
    "console.log(name.age);"
   ]
  },
  {
   "cell_type": "markdown",
   "metadata": {},
   "source": [
    "참조 값과 원시 값이 저장된 후에 차이를 확인할 수 있다.  \n",
    "\n",
    "참조 값은 객체가 파괴되거나 프로퍼티를 명시적으로 제거하기 전까지는 해당 프로퍼티에 접근할 수 있다.  \n",
    "\n",
    "원시 값은 프로퍼티가 없지만 추가해도 에러가 생기진 않는다.   \n",
    "하지만 추가된 프로퍼티는 다음줄에서 사라져 동적으로 프로퍼티를 추가할 수 없다.\n",
    "\n",
    "\n"
   ]
  },
  {
   "cell_type": "markdown",
   "metadata": {},
   "source": [
    "\n",
    "\n",
    "\n",
    "### 4.1.2 값 복사\n",
    "\n",
    "원시 값과 참조 값은 저장되는 방식 외에도 변수에서 다른 변수로 값을 복사할 때 다르게 동작한다.\n",
    "\n",
    "\n",
    "#### 예제2"
   ]
  },
  {
   "cell_type": "code",
   "execution_count": null,
   "metadata": {},
   "outputs": [],
   "source": [
    "// 원시 값\n",
    "var num1 = 5;\n",
    "var num2 = num1;\n",
    "console.log(num2);"
   ]
  },
  {
   "cell_type": "code",
   "execution_count": null,
   "metadata": {},
   "outputs": [],
   "source": [
    "// 참조 값\n",
    "var obj1 = new Object();\n",
    "var obj2 = obj1;\n",
    "obj1.name = 'SehunJeong';\n",
    "console.log(obj2.name)"
   ]
  },
  {
   "cell_type": "markdown",
   "metadata": {},
   "source": [
    "원시 값은 다른 변수를 복사할 때 현재 저장된 값을 새로 생성한 다음 새로운 변수에 복사한다.  \n",
    "복사된 값은 완전히 분리되어 있으므로 부작용 없이 두 변수를 각각 사용할 수 있다.\n",
    "\n",
    "참조 값은 변수에서 다른 변수로 복사하면 원래 변수에 들어있던 값이 다른 변수에 복사되기는 마찬가지다.  \n",
    "하지만 그 값이 객체 자체가 아니라 힙(heap)에 저장된 객체를 가르키는 포인터라는 점이 다르다.  \n",
    "따라서 두 변수는 정확히 같은 객체를 가르키게 되므로 한쪽에서 값 변경이 일어나면 다른 변수에도 반영된다.\n",
    "\n",
    "**힙(heap)이란?**  \n",
    "힙이란 애플리케이션이 운영체제로부터 미리 할당받는 메모리 영역이다.  \n",
    "웹에서 힙 메모리는 '브라우저가 쓰는 메모리'라고 생각하면된다.  \n",
    "\n",
    "\n",
    "\n",
    "**참고자료**  \n",
    "* http://tcpschool.com/c/c_memory_structure  \n",
    "\n",
    "\n",
    "\n",
    "### 4.1.3 매개변수 전달\n",
    "\n",
    "ECMAScript의 함수 매개변수는 모두 값으로 전달된다.  \n",
    "매개변수를 값 형태로 넘기면 해당 값은 지역 변수에 복사된다.  \n",
    "즉 이름붙은 매개변수로 복사되며 ECMAScript에서는 arguments 객체의 한 자리를 차지한다.\n",
    "\n",
    "\n",
    "#### 예제3"
   ]
  },
  {
   "cell_type": "code",
   "execution_count": null,
   "metadata": {},
   "outputs": [],
   "source": [
    "// 원시 값을 매개변수로 전달\n",
    "function addTen(num) {\n",
    "    num += 10;\n",
    "    return num;\n",
    "}\n",
    "\n",
    "var count = 20;\n",
    "var result = addTen(count);\n",
    "\n",
    "console.log(count);\n",
    "console.log(result);"
   ]
  },
  {
   "cell_type": "markdown",
   "metadata": {},
   "source": [
    "위에 addTen() 함수에서 매개변수 num은 지역변수이다.  \n",
    "원시 값을 복사할때와 마찬가지로 num과 count는 상관없는 값이다.  \n",
    "\n",
    "\n"
   ]
  },
  {
   "cell_type": "code",
   "execution_count": null,
   "metadata": {
    "scrolled": true
   },
   "outputs": [],
   "source": [
    "// 참조 값을 매개변수로 전달\n",
    "function setName(obj) {\n",
    "    obj.name = 'SehunJeong';\n",
    "}\n",
    "\n",
    "var person = new Object();\n",
    "setName(person);\n",
    "\n",
    "console.log(person.name);"
   ]
  },
  {
   "cell_type": "markdown",
   "metadata": {},
   "source": [
    "위에 setName() 함수에서 참조 값을 매개변수로 전달받았을 때는 다르게 동작하는걸 확인할 수 있다.  \n",
    "함수에 매개변수인 obj에 프로퍼티 정의 시, 함수 외부에 person 변수에도 변화가 있다는걸 확인할 수 있다.  \n",
    "그 이유는 obj, person 두 변수 모두 힙에 존재하는 전역 객체를 참조하고 있기 때문이다.  \n",
    "\n",
    "\n"
   ]
  },
  {
   "cell_type": "code",
   "execution_count": null,
   "metadata": {},
   "outputs": [],
   "source": [
    "// 참조 값을 매개변수로 전달\n",
    "function setName2(obj) {\n",
    "    obj.name = 'SehunJeong';\n",
    "    obj = new Object();\n",
    "    obj.name = \"Camel\";\n",
    "}\n",
    "\n",
    "var person = new Object();\n",
    "setName2(person);\n",
    "\n",
    "console.log(person.name);"
   ]
  },
  {
   "cell_type": "markdown",
   "metadata": {},
   "source": [
    "위에 setName2() 함수에서도 똑같이 참조 값을 매개변수로 전달받았다.  \n",
    "obj.name 프로퍼티를 정의 후 새 객체를 생성하여 name 프로퍼티를 재정의한다.  \n",
    "그리고 외부에 person 변수에 name 프로퍼티 값을 확인해보면 초기에 정의된 'SehunJeong' 값이 출력되는것을 확인할 수 있다.  \n",
    "그 이유는 setName2 함수에서 새로운 객체를 생성하게되면 obj 변수는 함수내에 지역객체를 가리키는 포인터가 되어 함수가 실행을 마치는 즉시 파괴되기 때문이다.  \n",
    "\n",
    "\n",
    "\n",
    "### 4.1.4 타입판별\n",
    "\n",
    "typeof 연산자는 변수가 원시 타입인지 파악하기에 최상이다.  \n",
    "typeof 연산자는 특정 변수가 문자열이나 숫자, 불리언, undefined라면 정확한 타입을 알 수 있다.  \n",
    "값이 객체이거나 null이면 typeof는\"object\"를 반환한다.  \n",
    "\n",
    "\n",
    "#### 예제4\n"
   ]
  },
  {
   "cell_type": "code",
   "execution_count": null,
   "metadata": {},
   "outputs": [],
   "source": [
    "var s = \"sehun\";\n",
    "var b = true;\n",
    "var i = 22;\n",
    "var u;\n",
    "var n = null;\n",
    "var o = new Object();\n",
    "var arr = [];\n",
    "\n",
    "console.log(\"s is \", typeof s)\n",
    "console.log(\"b is \", typeof b)\n",
    "console.log(\"i is \", typeof i)\n",
    "console.log(\"u is \", typeof u)\n",
    "console.log(\"n is \", typeof n)\n",
    "console.log(\"o is \", typeof o)\n",
    "console.log(\"arr is \", typeof arr)"
   ]
  },
  {
   "cell_type": "markdown",
   "metadata": {},
   "source": [
    "typeof는 원시 값에 대해서는 잘 동작하지만 참조 값에 대해서는 별 쓸모가 없다.  \n",
    "어떤 타입의 객체인지를 알기 위해선 instanceof 연산자가 도움이 된다.  \n",
    "아래와 같이 사용한다.  \n",
    "'result' = 'variable' instanceof 'constructor'\n",
    "\n",
    "모든 참조 값은 Object의 인스턴스인 것으로 정의되어 있으므로 참조 값이나 Object 생성자에 instanceof 연산자를 사용하면 항상 true를 반환한다.  \n",
    "반면 원시 값은 Object의 인스턴스가 아니므로 항상 false를 반환한다.  "
   ]
  },
  {
   "cell_type": "code",
   "execution_count": null,
   "metadata": {},
   "outputs": [],
   "source": [
    "var person = new Object();\n",
    "var colors = [];\n",
    "var pattern = new RegExp();\n",
    "\n",
    "var s = 'sehun';\n",
    "var num = 22;\n",
    "var u;\n",
    "\n",
    "console.log(person instanceof Object);\n",
    "console.log(colors instanceof Object);\n",
    "console.log(pattern instanceof RegExp);\n",
    "\n",
    "console.log(s instanceof Object);\n",
    "console.log(num instanceof Object);\n",
    "console.log(u instanceof Object);"
   ]
  },
  {
   "cell_type": "markdown",
   "metadata": {},
   "source": [
    "## 4.2 실행 컨텍스트와 스코프\n",
    "\n",
    "실행 컨텍스트(execution context)는 짧게 '컨텍스트'라고 부르며 자바스크립트에서는 아주 중요한 개념이다.  \n",
    "변수나 함수의 실행 컨텍스트는 다른데이터에 접근할 수 있는지, 어떻게 행동하는지를 규정한다.  \n",
    "각 실행 컨텍스트에는 변수객체(variable object)가 연결되어 있으며 해당 컨텍스트에서 정의된 모든 변수와 함수는 이 객체에 존재한다.  \n",
    "\n",
    "\n",
    "**Variable Object**  \n",
    "실행 컨텍스트가 생성되면 자바스크립트 엔진은 실행에 필요한 여러 정보를 담을 객체를 생성한다.  \n",
    "이를 Variable Object라고 한다.  \n",
    "Variable Object는 코드가 실행될 때 엔진에 의해 참조되며 코드에서는 접근할 수 없다.  \n",
    "Variable Object는 아래의 정보를 담는 객체이다.\n",
    "* 변수\n",
    "* 매개변수(parameter)와 인수정보(arguments)\n",
    "* 함수 선언(함수 표현식은 제외)\n",
    "\n",
    "\n",
    "가장 외부에 존재하는 실행 컨텍스트는 전역 컨텍스트이다.  \n",
    "웹 브라우저에서는 이 컨텍스트를 window라 부르며, 전역 변수와 함수는 모두 window 객체의 프로퍼티 및 메서드로 생성된다.   \n",
    "\n",
    "실행 컨텍스트는 포함된 코드가 모두 실행될 때 파괴되는데, 이때 해당 컨텍스트 내부에서 정의된 변수와 함수도 함께 파괴된다.  \n",
    "전역 컨텍스트는 애플리케이션이 종료될 때, 예를들어 웹페이지에서 나가거나 브라우저를 닫을 때까지 유지된다. \n",
    "  \n",
    "  \n",
    "**참고자료** \n",
    "* https://poiemaweb.com/js-execution-context\n",
    "* https://velog.io/@imacoolgirlyo/JS-%EC%9E%90%EB%B0%94%EC%8A%A4%ED%81%AC%EB%A6%BD%ED%8A%B8%EC%9D%98-Hoisting-The-Execution-Context-%ED%98%B8%EC%9D%B4%EC%8A%A4%ED%8C%85-%EC%8B%A4%ED%96%89-%EC%BB%A8%ED%85%8D%EC%8A%A4%ED%8A%B8-6bjsmmlmgy  \n",
    "\n",
    "  \n",
    "**스코프체인(scope chain)**  \n",
    "컨텍스트에서 코드를 실행하면 변수 객체에 스코프 체인(scrope chain)이 만들어진다.  \n",
    "스코프체인의 목적은 실행 컨텍스트가 접근할 수 있는 모든 변수와 함수에 순서를 정의하는 것이다.  \n",
    "  \n",
    "#### 예제5"
   ]
  },
  {
   "cell_type": "code",
   "execution_count": null,
   "metadata": {},
   "outputs": [],
   "source": [
    "var color = 'blue';\n",
    "function changeColor () {\n",
    "    if (color === 'blue') {\n",
    "        color = 'red';\n",
    "    } else {\n",
    "        color = 'blue'\n",
    "    }\n",
    "}\n",
    "\n",
    "changeColor();\n",
    "\n",
    "color;"
   ]
  },
  {
   "cell_type": "code",
   "execution_count": null,
   "metadata": {},
   "outputs": [],
   "source": [
    "var color = 'blue';\n",
    "\n",
    "function changeColor() {\n",
    "    var anotherColor = 'red';\n",
    "//     console.log(`in changeColor() access color=${color}, access anotherColor=${anotherColor}, access tempColor=${tempColor}`)\n",
    "    \n",
    "    function swapColors () {\n",
    "        var tempColor = anotherColor;\n",
    "        anotherColor = color;\n",
    "        color = tempColor;\n",
    "        \n",
    "        // color, anotherColor, tempColor 모두 접근 가능\n",
    "//         console.log(`in swapColors() access color=${color}, access anotherColor=${anotherColor}, access tempColor=${tempColor}`)\n",
    "    }\n",
    "    \n",
    "    // color, anotherColor 접근 가능, tempColor는 불가능\n",
    "    \n",
    "    swapColors();\n",
    "}\n",
    "\n",
    "// color만 접근 가능\n",
    "changeColor();\n",
    "console.log(`in Global access color=${color}, access anotherColor=${anotherColor}, access tempColor=${tempColor}`)"
   ]
  },
  {
   "cell_type": "markdown",
   "metadata": {},
   "source": [
    "### 4.2.1 스코프 체인 확장  \n",
    "\n",
    "실행 컨텍스트에는 전역 컨텍스트와 함수 컨텍스트 두 가지 타입만 있지만 (eval()을 호출할 때 생성되는 세 번째 타입도 있긴하지만 많이 쓰이는 개념이 아님)  \n",
    "스코프 체인을 확장하는 방법이 있다.  \n",
    "\n",
    "특정 문장은 스코프 체인 앞 부분에 임시로 변수 객체를 만들며 해당 변수 객체는 코드 실행이 끝나면 사라진다.  \n",
    "이렇게 임시 객체가 생성되는 경우는 다음 두 가지이다.  \n",
    "* try-catch 문의 catch 블록\n",
    "* with 문\n",
    "\n",
    "\n",
    "#### 예제6"
   ]
  },
  {
   "cell_type": "code",
   "execution_count": null,
   "metadata": {},
   "outputs": [],
   "source": [
    "// 해당 코드가 실행되는 환경은 브라우져가 아니기 때문에 location 객체가 없음\n",
    "// 해당 코드는 브라우져 콘솔상에서 테스트 해볼것\n",
    "function buildUrl () {\n",
    "    var qs = '?debug=true';\n",
    "    console.log('location', location);\n",
    "    \n",
    "    with(location) {\n",
    "        var url = href + qs;\n",
    "    }\n",
    "    \n",
    "    return url;\n",
    "}\n",
    "\n",
    "buildUrl();"
   ]
  },
  {
   "cell_type": "markdown",
   "metadata": {},
   "source": [
    "with 예제에서 with 문이 location 객체에 적용되므로 location 객체가 스코프 체인에 추가된다. \n",
    "따라서 해당 함수에서 선언된 변수는 qs 하나 뿐이지만, href 변수를 사용해도 오류가 없다.  \n",
    "href 변수는 스코프 체인에 추가된 location.href 변수를 참조하기 때문이다. \n",
    "\n"
   ]
  },
  {
   "cell_type": "markdown",
   "metadata": {},
   "source": [
    "### 4.2.2 자바스크립트에는 블록 레벨 스코프가 없습니다.  \n",
    "\n",
    "C와 비슷한 다른 언어에서는 중괄호로 감싼 코드 블록마다 스코프(ECMAScript에서는 실행 컨텍스트라고 부름)가 생성되므로 조건에 따라 변수를 정의할 수 있다.  \n",
    "(ES6부터는 let, const라는 변수 타입이 추가되었다. 해당 타입으로 선언된 변수는 블록 레벨 스코프를 가진다.)  \n",
    "\n",
    "\n",
    "#### 예제7"
   ]
  },
  {
   "cell_type": "code",
   "execution_count": null,
   "metadata": {},
   "outputs": [],
   "source": [
    "if (true) {\n",
    "    var color = \"blue\";\n",
    "}\n",
    "\n",
    "function test () {\n",
    "    var color2 = 'red';\n",
    "}\n",
    "\n",
    "color;\n",
    "color2;"
   ]
  },
  {
   "cell_type": "markdown",
   "metadata": {},
   "source": [
    "변수 color는 if 문 안에 정의되어 있다.  \n",
    "C나 C++, 자바 같은 언어에서 color는 if문이 실행된 다음 파괴된다.  \n",
    "하지만 자바스크립트에서는 변수를 선언할 때 해당 변수를 현재 실행 컨텍스트(위 코드에서는 전역 컨텍스트)에 추가한다.  \n",
    "\n",
    "\n",
    "#### 예제8"
   ]
  },
  {
   "cell_type": "code",
   "execution_count": null,
   "metadata": {
    "scrolled": true
   },
   "outputs": [],
   "source": [
    "// for문에서 생성한 i 변수가 루프 실행이 끝난 후에도 존재한다.\n",
    "for (let j = 0; j < 10; j++) {\n",
    "    console.log('i is ', j)\n",
    "}\n",
    "\n",
    "console.log('i is alive!', j)"
   ]
  },
  {
   "cell_type": "markdown",
   "metadata": {},
   "source": [
    "#### 변수선언\n",
    "\n",
    "var를 사용해 선언한 변수는 자동으로 가장 가까운 컨텍스트에 추가된다.  \n",
    "함수 내부에서는 함수의 로컬 컨텍스트가 가장 가까운 컨텍스트이며 with 문 내부에서는 함수 컨텍스트가 가장 가까운 컨텍스트이다.  \n",
    "아래와 같이 변수를 선언하지 않은 채 초기화하면 해당 변수는 자동으로 전역 컨텍스트에 추가된다.  \n",
    "\n",
    "#### 예제9"
   ]
  },
  {
   "cell_type": "code",
   "execution_count": 1,
   "metadata": {},
   "outputs": [
    {
     "name": "stdout",
     "output_type": "stream",
     "text": [
      "result = 30\n"
     ]
    },
    {
     "ename": "ReferenceError",
     "evalue": "sum is not defined",
     "output_type": "error",
     "traceback": [
      "evalmachine.<anonymous>:9",
      "console.log('sum =', sum);",
      "                     ^",
      "",
      "ReferenceError: sum is not defined",
      "    at evalmachine.<anonymous>:9:22",
      "    at ContextifyScript.Script.runInThisContext (vm.js:50:33)",
      "    at Object.runInThisContext (vm.js:139:38)",
      "    at run ([eval]:1054:15)",
      "    at onRunRequest ([eval]:888:18)",
      "    at onMessage ([eval]:848:13)",
      "    at emitTwo (events.js:126:13)",
      "    at process.emit (events.js:214:7)",
      "    at emit (internal/child_process.js:772:12)",
      "    at _combinedTickCallback (internal/process/next_tick.js:141:11)"
     ]
    }
   ],
   "source": [
    "// var 변수 선언\n",
    "function add (num1, num2) {\n",
    "    var sum = num1 + num2;\n",
    "    return sum;\n",
    "}\n",
    "\n",
    "var result = add(10, 20);\n",
    "console.log('result =', result);\n",
    "console.log('sum =', sum);"
   ]
  },
  {
   "cell_type": "code",
   "execution_count": 2,
   "metadata": {},
   "outputs": [
    {
     "name": "stdout",
     "output_type": "stream",
     "text": [
      "result = 30\n",
      "sum = 30\n"
     ]
    }
   ],
   "source": [
    "// var 변수 선언 하지않음\n",
    "function add(num1, num2) {\n",
    "    sum = num1 + num2;\n",
    "    return sum;\n",
    "}\n",
    "\n",
    "var result = add(10, 20)\n",
    "\n",
    "console.log('result =', result);\n",
    "console.log('sum =', sum);"
   ]
  },
  {
   "cell_type": "markdown",
   "metadata": {},
   "source": [
    "#### 식별자 검색\n",
    "\n",
    "컨텍스트 안에서 식별자를 참조하려 하면 먼저 검색부터 해야한다.  \n",
    "검색은 스코프 체인 앞에서 시작하며 주어진 이름으로 식별자를 찾는다.  \n",
    "로컬 컨텍스트에서 식별자 이름을 찾으면 검색을 멈추고 변수를 설정한다.  \n",
    "변수 이름을 찾지 못하면 스코프 체인을 따라 검색을 계속한다. \n",
    "전역 컨텍스트의 변수 객체에 도달할 때까지 이 과정을 따라 검색을 계속한다.  \n",
    "전역 컨텍스트의 변수 객체에서도 식별자를 찾지 못하면 정의되지 않은 것으로 판단한다.  \n",
    "\n",
    "#### 예제 10"
   ]
  },
  {
   "cell_type": "code",
   "execution_count": null,
   "metadata": {},
   "outputs": [],
   "source": [
    "/**\n",
    "  * 두 단계 검색을 시작한다.\n",
    "  * getColor()의 변수 객체에서 color라는 식별자 이름을 검색한다.\n",
    "  * 다음 변수 객체(전역 컨텍스트)에서 color 식별자를 검색한다.\n",
    "  * color 식별자를 찾으면 검색을 마친다.\n",
    "  */\n",
    "\n",
    "var color = 'blue';\n",
    "function getColor () {\n",
    "    return color;\n",
    "}\n",
    "\n",
    "console.log(getColor());"
   ]
  },
  {
   "cell_type": "code",
   "execution_count": null,
   "metadata": {},
   "outputs": [],
   "source": [
    "// 지역 변수를 참조할 때는 다음 변수 객체를 검색하지 않아도 자동으로 검색을 멈추는걸 알수있다.\n",
    "var color = 'blue';\n",
    "function getColor () {\n",
    "    var color = 'red';\n",
    "    return color;\n",
    "}\n",
    "\n",
    "console.log(getColor());"
   ]
  },
  {
   "cell_type": "markdown",
   "metadata": {},
   "source": [
    "## 4.3 가비지 콜렉션  \n",
    " \n",
    "자바스크립트는 실행 환경에서 코드 실행 중에 메모리를 관리하는데 이런 의미에서 가비지 콜렉션 언어라고 불러도 된다.  \n",
    "C나 C++ 같은 언어에서는 메모리 추적이 매우 중요한데 이와 다르게 자바스크립트는 필요한 메모리를 자동으로 할당하고 더 이상 사용하지 않는 메모리는 자동으로 회수한다.  \n",
    "\n",
    "자바스크립트에서는 사용하지 않을 변수를 찾아내 해당 변수가 차지하고 있던 메모리를 회수하는데, \n",
    "이 프로세스는 주기적으로 실행된다. 코드 실행 중에 특정 시점에서 메모리를 회수하도록 지정할 수도 있다. \n",
    "\n",
    "더 이상 사용하지 않는 변수를 식별하는 기준은 브라우저마다 다르지만 보통 아래 두 가지 방법을 흔히 사용한다.  \n",
    "\n",
    "\n",
    "### 4.3.1 표시하고 지우기\n",
    "\n",
    "자바스크립트에서 가장 널리 쓰이는 가비지 컬렉션 방법은 '표시하고 지우기 (mark-and-sweep)라 불린다.  \n",
    "변수가 특정 컨텍스트 안에서 사용할 것으로 정의되면 그 변수는 그 컨텍스트 안에 있는것으로 표시된다. (예를 들어 함수안에 변수를 정의하면)  \n",
    "\n",
    "  \n",
    "### 4.3.2 참조 카운팅  \n",
    "\n",
    "널리 쓰이지는 않지만 '참조 카운 (reference counting)'이라 불리는 방법도 있다. \n",
    "각 값이 ㅇ러마나 많이 참조되었는지를 추적하는 방식이다.  \n",
    "변수를 선언하고 참조 값이 할당되면 참조 카운트는 1이다.  \n",
    "다른 변수가 같은 값을 참조하면 참조 카운트가 늘어난다. 마찬가지로 해당 값을 참조하는 변수에 다른 다른 값을 할당하면 참조 카운트가 줄어든다.  \n",
    "값의 참조 카운트가 0이 되면 해당 값에 접근할 방법이 없으므로 메모리를 회수해도 안전하다.  \n",
    "\n",
    "\n",
    "### 기타  \n",
    "\n",
    "일반적으로 가비지 컬렉션을 지원하는 프로그래밍 환경에서는 개발자가 메모리 관리를 신경쓰지 않아도 된다.  \n",
    "하지만 자바스크립트라는 환경에서 메모리 관리와 가비지 컬렉션은 다른 환경과 매우 다르다.  \n",
    "웹 브라우저에서 사용할 수 있는 메모리는 일반적인 데스크톱 애플리케이션의 가용 메모리에 비해 매우 적다.  \n",
    "\n",
    "가능한 한 최소한의 메모리만 사용해야 페이지 성능을 올릴 수 있습니다.  \n",
    "메모리 사용을 최적화하는 가장 좋은 방법은 코드 실행에 필요한 데이터만 유지하는 것이다.  \n",
    "필요 없어진 데이터에는 null을 할당하여 참조를 제거하는 편이 좋다.  \n",
    "\n",
    "\n",
    "\n",
    "\n",
    "**참고자료**  \n",
    "* https://developer.mozilla.org/ko/docs/Web/JavaScript/Memory_Management  "
   ]
  },
  {
   "cell_type": "code",
   "execution_count": null,
   "metadata": {},
   "outputs": [],
   "source": []
  }
 ],
 "metadata": {
  "kernelspec": {
   "display_name": "Javascript (Node.js)",
   "language": "javascript",
   "name": "javascript"
  },
  "language_info": {
   "file_extension": ".js",
   "mimetype": "application/javascript",
   "name": "javascript",
   "version": "8.9.4"
  }
 },
 "nbformat": 4,
 "nbformat_minor": 2
}

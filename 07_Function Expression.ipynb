{
 "cells": [
  {
   "cell_type": "markdown",
   "metadata": {},
   "source": [
    "# 7장 함수 표현식\n",
    "\n",
    "## [목차]\n",
    "* ### 함수 표현식의 특징\n",
    "* ### 함수와 재귀 \n",
    "* ### 클로저를 이용한 고유 변수\n",
    "   \n",
    "<br>\n",
    "\n",
    "## 7.1 함수 표현식의 특징\n",
    "   * 함수 정의 방법: 함수 선언, 함수 표현식"
   ]
  },
  {
   "cell_type": "code",
   "execution_count": null,
   "metadata": {},
   "outputs": [],
   "source": [
    "function functionName(arg0, arg1, arg2) {\n",
    "     //함수 본문\n",
    "}"
   ]
  },
  {
   "cell_type": "markdown",
   "metadata": {},
   "source": [
    "* 함수 선언"
   ]
  },
  {
   "cell_type": "code",
   "execution_count": null,
   "metadata": {},
   "outputs": [],
   "source": [
    "// p.268 이게 호이스팅이다.\n",
    "sayHi();\n",
    "function sayHi() {\n",
    "    console.log(\"Hi!\");\n",
    "}"
   ]
  },
  {
   "cell_type": "markdown",
   "metadata": {},
   "source": [
    "* 함수 선언 끌어올림: 함수 선언부를 다른 코드 보다 먼저 읽고 실행한다는 뜻 "
   ]
  },
  {
   "cell_type": "code",
   "execution_count": null,
   "metadata": {},
   "outputs": [],
   "source": [
    "sayHi(); // 에러- 함수가 아직 존재하지 않습니다.\n",
    "var sayHi = function() {\n",
    "    alert(\"Hi\");\n",
    "};"
   ]
  },
  {
   "cell_type": "markdown",
   "metadata": {},
   "source": [
    "* 함수 표현식 패턴: 일반적인 변수 할당과 거의비슷 function 키워드 다음에 함수 이름이 없으면 익명함수(= 람다함수,lambda)라 한다. "
   ]
  },
  {
   "cell_type": "code",
   "execution_count": null,
   "metadata": {},
   "outputs": [],
   "source": [
    "// 사용해서 안되는 패턴 -> 확인\n",
    "if(false) {\n",
    "    function sayHi(){\n",
    "        console.log(\"hi\");\n",
    "    }\n",
    "}\n",
    "else {\n",
    "    function sayHi(){\n",
    "        console.log(\"hi222\");\n",
    "    }\n",
    "}\n",
    "sayHi();"
   ]
  },
  {
   "cell_type": "markdown",
   "metadata": {},
   "source": [
    "* 위 코드는 마치 condition이 true일때와 false일때 sayHi함수를 서로 다르게 정의하는 것처럼 보이지만 이는 ECMAScript에서 허용하지 않는 문법이다. \n",
    "<br>\n",
    "\n",
    "* 브라우저 마다 condition 평가가 다르기 때문.\n",
    "  * 대부분의 브라우저는 두번째 선언을 사용한다.\n",
    "  * 파이어폭스는 conditiondl true 일때 첫번째 선언을 사용한다."
   ]
  },
  {
   "cell_type": "code",
   "execution_count": null,
   "metadata": {},
   "outputs": [],
   "source": [
    "// 이 예제는 괜찮다. condition에 따라 sayHi에 각각 다른 함수 표현식 할당\n",
    "var sayHi;\n",
    "\n",
    "if(true){\n",
    "    sayHi = function(){\n",
    "        console.log(\"hi\");\n",
    "    };\n",
    "} else {\n",
    "    sayHi = function(){\n",
    "        console.log(\"hi222\");\n",
    "    };\n",
    "}\n",
    "sayHi();"
   ]
  },
  {
   "cell_type": "code",
   "execution_count": null,
   "metadata": {},
   "outputs": [],
   "source": [
    "// 5장에서 다뤘던 함수표현식 예제\n",
    "function createComparisonFunction(propertyName) {\n",
    "    return function(object1, object2){\n",
    "        var value1 = object1[propertyName];\n",
    "        var value2 = object2[propertyName];\n",
    "        if(value1 < value2){\n",
    "            return -1;\n",
    "        } else if (value1 > value2){\n",
    "            return 1;\n",
    "        } else {\n",
    "          return 0;  \n",
    "        }\n",
    "    };\n",
    "}\n",
    "createComparisonFunction();"
   ]
  },
  {
   "cell_type": "markdown",
   "metadata": {},
   "source": [
    "* createComparisonFunction()는 익명함수를 반환한다. 값처럼 쓰이는 함수를 함수표현식이라고 부른다."
   ]
  },
  {
   "cell_type": "markdown",
   "metadata": {},
   "source": [
    "## 7.2 재귀\n",
    "  * 함수가 자기 자신을 이름으로 호출하는 형태"
   ]
  },
  {
   "cell_type": "code",
   "execution_count": null,
   "metadata": {},
   "outputs": [],
   "source": [
    "// 계승함수 - 재귀의 전형적 예제\n",
    "function factorial(num){\n",
    "    if (num <= 1){\n",
    "        return 1;\n",
    "    } else {\n",
    "        return num * factorial(num-1);\n",
    "    }\n",
    "}\n",
    "\n",
    "factorial(5);"
   ]
  },
  {
   "cell_type": "code",
   "execution_count": null,
   "metadata": {},
   "outputs": [],
   "source": [
    "// 코드 추가하면 동작 안함\n",
    "function factorial(num){\n",
    "    if (num <= 1){\n",
    "        return 1;\n",
    "    } else {\n",
    "        return num * factorial(num-1);\n",
    "    }\n",
    "}\n",
    "var anotherFactorial = factorial;\n",
    "factorial = null;\n",
    "console.log(anotherFactorial(4)); // 에러"
   ]
  },
  {
   "cell_type": "code",
   "execution_count": null,
   "metadata": {},
   "outputs": [],
   "source": [
    "// arguments.callee 추가\n",
    "function factorial(num){\n",
    "    if (num <= 1){\n",
    "        return 1;\n",
    "    } else {\n",
    "        return num * arguments.callee(num-1);\n",
    "    }\n",
    "}\n",
    "\n",
    "factorial(2);"
   ]
  },
  {
   "cell_type": "markdown",
   "metadata": {},
   "source": [
    "* arguments.callee는 현재 실행중인 함수를 가리키는 포인터다. 재귀 함수 사용할때 항상 함수 이름 대신 arguments.callee를 쓰길 권함\n",
    "<br>\n",
    "\n",
    "* strict mode 에서는 arguments.callee의 값에 접근할 수 없다."
   ]
  },
  {
   "cell_type": "code",
   "execution_count": null,
   "metadata": {},
   "outputs": [],
   "source": [
    "var factorial = (function f(num){\n",
    "    if (num <= 1){\n",
    "        return 1;\n",
    "    } else {\n",
    "        return num * f(num-1);\n",
    "    }\n",
    "});\n",
    "\n",
    "factorial(3);"
   ]
  },
  {
   "cell_type": "markdown",
   "metadata": {},
   "source": [
    "* 이름붙은 함수 표현식 f를 생성해 변수 factorial에 할당했다. f라는 이름은 함수를 다른 변수에 할당하더라도 그대로 유지되므로 재귀 호출은 정확히 실행된다.\n",
    "\n",
    "* 이 패턴은 스트릭트 모드와 비 스트릭트 모드에서 모두 동작"
   ]
  },
  {
   "cell_type": "markdown",
   "metadata": {},
   "source": [
    "## 7.3 클로저\n",
    "  * 익명함수와 클로저 는 자주 잘못 혼용된다.\n",
    "  * 클로저란 다른 함수의 스코프에 있는 변수에 접근 가능한 함수"
   ]
  },
  {
   "cell_type": "code",
   "execution_count": null,
   "metadata": {},
   "outputs": [],
   "source": [
    "function createComparisonFunction(propertyName) {\n",
    "    \n",
    "    return function(object1, object2){\n",
    "        var value1 = object1[propertyName];\n",
    "        var value2 = object2[propertyName];\n",
    "        \n",
    "        if(value1 < value2){\n",
    "            return -1;\n",
    "        } else if (value1 > value2){\n",
    "            return 1;\n",
    "        } else {\n",
    "          return 0;  \n",
    "        }\n",
    "    };\n",
    "}\n",
    "createComparisonFunction();\n"
   ]
  },
  {
   "cell_type": "markdown",
   "metadata": {},
   "source": [
    "* 내부함수(익명함수)이면서 외부 함수의 변수(property Name)에 접근한다.\n",
    "* 내부 함수가 반환되어 다른 컨텍스트에서 실행되는 동안에도 propertyName에 접근가능\n",
    "* 내부함수의 스코프 체인에 createComparisonFunction()의 스코프가 포함되기 때문\n",
    "<br>\n",
    "\n",
    "* 4장(스코프 체인 개념) 복습하시오 <br>\n",
    "    1) 함수를 호출하면 실행 컨텍스트와 스코프 체인이 생성된다.<br>\n",
    "    2) 함수의 활성화 객체는 arguments 및 이름 붙은 매개변수로 초기화 <br>\n",
    "    3) 외부 함수의 활성화 객체는 스코프 체인의 두 번째 객체 <br>\n",
    "    4) 계속 반복해서 전역 실행 컨텍스트에서 종료될때 까지 이어진다."
   ]
  },
  {
   "cell_type": "code",
   "execution_count": null,
   "metadata": {},
   "outputs": [],
   "source": [
    "function compare(value1, value2) {\n",
    "    if (value1 < value2){\n",
    "        return -1;\n",
    "    } else if (value1 > value2){\n",
    "        return 1;\n",
    "    } else {\n",
    "        return 0;\n",
    "    }\n",
    "}\n",
    "var result = compare (5,10);\n",
    "\n",
    "compare(5,10);"
   ]
  },
  {
   "cell_type": "markdown",
   "metadata": {},
   "source": [
    "![image.png](img/7_1.png)"
   ]
  },
  {
   "cell_type": "markdown",
   "metadata": {},
   "source": [
    "* 그림 7-1 설명\n",
    "    * 전역 실행 컨텍스트에서 호출하는 compare()라는 함수를 만든다.\n",
    "    * compare()를 처음 호출하면 arguments, value1, value2를 포함한 활성화객체가 만들어진다.\n",
    "    * 전역 실행 컨텍스트의 변수 객체는 this, result, compare를 포함하는 compare()실행컨텍스트의 스코프 체인 다음에 위치한다.\n"
   ]
  },
  {
   "attachments": {},
   "cell_type": "markdown",
   "metadata": {},
   "source": [
    "\n",
    "![image.png](img/7_2.png)"
   ]
  },
  {
   "cell_type": "markdown",
   "metadata": {},
   "source": [
    "* var compare = createComparisonFunction(\"Name\");\n",
    "* var result = compare({ name: \"Nichoalas\"}, { name: \"Greg\" });\n",
    "<br>\n",
    "* 스코프체인\n",
    " * 변수 객체를 가리키는 포인터 목록이며 객체를 직접 포함하는것은 아님\n",
    " * 함수에서 변수에 접근할때마다 스코프 체인에서 해당 이름의 변수를 검색한다.\n",
    " * 함수 실행이 끝나면 로컬 활성화 객체는 파괴되고 메모리에는 전역 스코프만 남는다.\n",
    " \n",
    " \n",
    "* 클로저 동작 (스코프와 다르게 동작)\n",
    " * 다른 함수의 내부에 존재하는 함수는 외부함수의 활성화 객체를 자신의 스코프 체인에 추가한다.\n",
    " * 따라서 createComparisonFunction()(외부함수) 내부에 있는 익명 함수의 스코프 체인에는 \n",
    " 외부 함수의 활성화 객체를 가리키는 포인터가 존재한다.\n",
    " \n",
    " "
   ]
  },
  {
   "cell_type": "code",
   "execution_count": null,
   "metadata": {},
   "outputs": [],
   "source": [
    "// 함수 생성 \n",
    "var compareNames = createComparisonFunction(\"name\");\n",
    "\n",
    "// 함수 호출\n",
    "var result = compareNames({ name: \"하유리\"}, { name: \"최재현\"});\n",
    "\n",
    "// 함수 파괴 - 메모리 회수 가능\n",
    "compareNames = null;\n",
    "\n",
    "compareNames(); // 7-2와 같은 그림 "
   ]
  },
  {
   "cell_type": "markdown",
   "metadata": {},
   "source": [
    "* compareNames에 null을 할당하면 함수에 대한 참조가 사라지므로 가비지 콜렉션에서 메모리를 회수 할 수 있다. \n",
    "\n",
    "* 스코프 체인은 파괴되고, 전역스코프를 제외한 모든 스코프를 파괴해도 안전하다."
   ]
  },
  {
   "cell_type": "markdown",
   "metadata": {},
   "source": [
    "## 7-4 클로저와 변수\n",
    "   * 스코프 체인에 한가지 부작용 - 클로저는 항상 외부함수의 변수에 마지막으로 저장된 값만 알 수 있다. \n",
    "   * 클로저가 특정 변수가 아니라 전체 변수 객체에 대한 참조를 저장함 (기억하시오)"
   ]
  },
  {
   "cell_type": "code",
   "execution_count": null,
   "metadata": {},
   "outputs": [],
   "source": [
    "function createFunctions() {\n",
    "    var result = new Array();\n",
    "    \n",
    "    for (var i=0; i < 10; i++){\n",
    "        result[i] = function() {\n",
    "          return i;  \n",
    "        };\n",
    "    }\n",
    "\n",
    "    return result;\n",
    "}\n",
    "\n",
    "var func_array = createFunctions();\n",
    "for (var i = 0; i < func_array.length; ++i) {\n",
    "    console.log(func_array[i]());\n",
    "}"
   ]
  },
  {
   "cell_type": "code",
   "execution_count": null,
   "metadata": {},
   "outputs": [],
   "source": [
    "function createFunctions() {\n",
    "    var result = new Array();\n",
    "    \n",
    "    for (var i=0; i < 10; i++){\n",
    "        result[i] = function(num) { // 익명함수에 매개변수로 num 으로 넘김\n",
    "          return num;  \n",
    "        }(i);\n",
    "    }\n",
    "    \n",
    "    return result;\n",
    "}\n",
    "\n",
    "var func_array = createFunctions();\n",
    "func_array;"
   ]
  },
  {
   "cell_type": "markdown",
   "metadata": {},
   "source": [
    "### 7.4.1 this 객체\n",
    "\n",
    "* 클로저 내부의 this 객체는 런타임에서 함수가 실행 중인 컨텍스트에 묶입니다\n",
    "* 즉, 전역 함수에서 this는 스트릭트 모드가 아닐 때는 window 스트릭트 모드 일때는 undefined이다.\n",
    "* 함수가 객체 메서드로 호출되었을 때 this는 해당객체이다.\n",
    "* 이 컨텍스트에서 익명함수는 특정 객체에 묶여 있지 않으므로 스트릭트 모드가 아니라면 this 객체는 window이며 스트릭트 모드에서는 undefined"
   ]
  },
  {
   "cell_type": "code",
   "execution_count": null,
   "metadata": {},
   "outputs": [],
   "source": [
    "var name = \"The Window\";\n",
    "\n",
    "var obj = {\n",
    "    name : \"My Object\",\n",
    "    \n",
    "    getNameFunc : function() {\n",
    "        return function(){\n",
    "            return this.name;\n",
    "        };\n",
    "    }\n",
    "};\n",
    "\n",
    "console.log (obj.getNameFunc()()); "
   ]
  },
  {
   "cell_type": "code",
   "execution_count": null,
   "metadata": {},
   "outputs": [],
   "source": [
    "var name = \"The Window2\";\n",
    "\n",
    "var obj = {\n",
    "    name : \"My Object2\",\n",
    "    \n",
    "    getNameFunc : function() {\n",
    "        var that = this; // 중요\n",
    "        return function(){\n",
    "            return that.name; // 중요\n",
    "        };\n",
    "    }\n",
    "};\n",
    "\n",
    "console.log (obj.getNameFunc()()); "
   ]
  },
  {
   "cell_type": "markdown",
   "metadata": {},
   "source": [
    "* 익명함수를 정의하기 전에 외부함수의 this 객체를 that 변수에 할당했다.\n",
    "* that은 외부 함수의 고유한 변수이므로 클로저는 이 변수에 접근 가능하다.\n",
    "* 함수가 반환된 뒤에도 that은 여전히 object로 묶여 있으므로 호출하면 저게 나오는것.\n",
    "\n",
    "* that: 외부함수에서 '이것'이니 내부함수에서는 '저것'"
   ]
  },
  {
   "cell_type": "code",
   "execution_count": null,
   "metadata": {},
   "outputs": [],
   "source": [
    "// this 값이 예상과 다른 특별한 경우\n",
    "\n",
    "var name = \"The Window\";\n",
    "\n",
    "var obj = {\n",
    "    name : \"My Object\",\n",
    "    \n",
    "    getName: function() {\n",
    "      return this.name;   \n",
    "    }\n",
    "};\n",
    "\n",
    "console.log(\"실행1 = \" +  obj.getName());\n",
    "console.log(\"실행2 = \" + (obj.getName)());\n",
    "console.log(\"실행3(스트릭트 모드가 아닐때) = \" + (obj.getName = obj.getName)());"
   ]
  },
  {
   "cell_type": "markdown",
   "metadata": {},
   "source": [
    "### 7.4.2 메모리 누수\n",
    "* 익명함수는 assignHangler()함수의 활성화 객체에 대한 참조를 계속 유지하는데, 이 때문에 element에 대한 참조 카운트가 줄어들지 않는다. \n",
    "익명함수가 존재하는 한 element에 대한 참조 카운트는 최소 1이고 따라서 메모리를 회수할 수 없다."
   ]
  },
  {
   "cell_type": "code",
   "execution_count": null,
   "metadata": {},
   "outputs": [],
   "source": [
    "function assignHandler(){\n",
    "    var element = document.getElementById(\"someElement\");\n",
    "    var id = element.id;\n",
    "    \n",
    "    element.onclick = function() {\n",
    "      console.log(id);  \n",
    "    };\n",
    "    element = null; // COM객체에 대한 참조가 제거되고 참조 카운트도 감소하므로 메모리 회수 가능\n",
    "}"
   ]
  },
  {
   "cell_type": "markdown",
   "metadata": {},
   "source": [
    "### 7.5 블록스코프 흉내내기 ( 여기부터 다시 발표)"
   ]
  },
  {
   "cell_type": "code",
   "execution_count": null,
   "metadata": {},
   "outputs": [],
   "source": [
    "function outputNumbers(count){\n",
    "    for (var i=0; i < count; i++){\n",
    "        console.log('for loof 안에 있는 =' + i);\n",
    "    }\n",
    "    console.log('count =' + i);\n",
    "}\n",
    "\n",
    "outputNumbers(10);"
   ]
  },
  {
   "cell_type": "markdown",
   "metadata": {},
   "source": [
    "* 자바나 C에서는 변수 i가 for 루프 블록 내부에 존재하므로 루프가 실행을 마치면 변수는 파괴된다. \n",
    "* 자바스크립트 에서는 변수 i가 outputNumbers()의 활성화 객체 일부인 것으로 정의되므로 그 시점부터는 함수 내에서 접근할 수 있다."
   ]
  },
  {
   "cell_type": "code",
   "execution_count": null,
   "metadata": {},
   "outputs": [],
   "source": [
    "function outputNumbers2(count){\n",
    "    for (var i=0; i < count; i++){\n",
    "        console.log('for loof 안에 있는 =' + i);\n",
    "    }\n",
    "    var i; // 변수 재선언 (잘못된것)\n",
    "    console.log('count =' + i);\n",
    "}\n",
    "\n",
    "outputNumbers2(10);"
   ]
  },
  {
   "cell_type": "code",
   "execution_count": null,
   "metadata": {},
   "outputs": [],
   "source": [
    "// 고유스코프: 익명함수를 블록 스코프 처럼 쓰는 문법 \n",
    "\n",
    "(function(){\n",
    "    //코드 블록\n",
    "})();"
   ]
  },
  {
   "cell_type": "markdown",
   "metadata": {},
   "source": [
    "* 즉시 호출 함수\n",
    "    * 익명함수를 정의하는 즉시 호출"
   ]
  },
  {
   "cell_type": "code",
   "execution_count": null,
   "metadata": {},
   "outputs": [],
   "source": [
    "// 1. 불필요한 코드 예시\n",
    "\n",
    "var count = 5; // 5로 초기화\n",
    "outputNumbers(count); // 변수 선언하자마자 함수에 넘김\n",
    "\n",
    "\n",
    "// 2. 올바른 예시\n",
    "outputNumbers(5);"
   ]
  },
  {
   "cell_type": "code",
   "execution_count": null,
   "metadata": {},
   "outputs": [],
   "source": [
    "// 3. 함수를 정의하고 즉시 호출함\n",
    "\n",
    "var someFunction = function(){\n",
    "  // 코드블록  \n",
    "};\n",
    "someFunction();"
   ]
  },
  {
   "cell_type": "code",
   "execution_count": null,
   "metadata": {},
   "outputs": [],
   "source": [
    "// 4-1 동작 안함\n",
    "function(){\n",
    "    // 코드 블록\n",
    "}(); //문법 에러"
   ]
  },
  {
   "cell_type": "markdown",
   "metadata": {},
   "source": [
    "* 자바스크립트는 function 키워드를 함수 선언의 시작으로 인식하는데, 함수 선언 다음에 괄호를 쓸 수 없기 때문"
   ]
  },
  {
   "cell_type": "code",
   "execution_count": null,
   "metadata": {},
   "outputs": [],
   "source": [
    "// 4-2 동작\n",
    "(function(){\n",
    "    // 코드 블록\n",
    "})();"
   ]
  },
  {
   "cell_type": "code",
   "execution_count": null,
   "metadata": {},
   "outputs": [],
   "source": [
    "function outputNumbers(count){\n",
    "    (function() { //익명함수\n",
    "        for(var i=0; i < count; i++){\n",
    "            console.log(i);\n",
    "        }\n",
    "})();\n",
    "    console.log(i); // 에러\n",
    "}"
   ]
  },
  {
   "cell_type": "markdown",
   "metadata": {},
   "source": [
    "* 익명함수 안에서 정의한 변수는 실행한 즉시 파괴가 된다.\n",
    "* 변수 i도 루프 안에서 사용한 후 파괴된다.\n",
    "* 익명함수는 클로저여서 외부 스코프의 변수에 자유로이 접근할 수 있으므로 count 변수 역시 고유 스코프 안에서 접근 가능하다.\n",
    "* 전역 스코프에 변수나 함수를 추가하지 않는편이 좋다. -> 충돌예방."
   ]
  },
  {
   "cell_type": "code",
   "execution_count": null,
   "metadata": {},
   "outputs": [],
   "source": [
    "(function(){\n",
    "    var now = new Date();\n",
    "    if(now.getMonth() == 0 && now.getDate() == 1){\n",
    "        console.log(\"happy new year!\");\n",
    "    }\n",
    "})();"
   ]
  },
  {
   "cell_type": "markdown",
   "metadata": {},
   "source": [
    "* 고유 스코프를 이용하면 전역 스코프를 어지럽힐 염려없이 자유롭게 변수를 쓸수 있다.\n",
    "* 변수 now는 전역 스코프의 변수가 아니라 함수의 지역변수 이다.\n",
    "* 이패턴은 익명함수에 대한 참조가 존재하지 않으므로 클로저의 메모리 문제도 덜하다. 참조가 존재하지 않으므로 함수 실행을 마치는 즉시 스코프 체인을 파괴하여 메모리를 회수 할 수 있기 때문이다."
   ]
  },
  {
   "cell_type": "markdown",
   "metadata": {},
   "source": [
    "## 7.6 고유변수\n",
    "* 함수안에서 정의한 변수는 함수 밖에서 접근할 수 없으므로 모두 고유변수라고 간주한다.\n",
    "여기에는 함수 매개변수, 지역변수, 내부함수 등이 속한다."
   ]
  },
  {
   "cell_type": "code",
   "execution_count": null,
   "metadata": {},
   "outputs": [],
   "source": [
    "function add(num1, num2){\n",
    "    var sum = num1 + num2;\n",
    "    return sum;\n",
    "}"
   ]
  },
  {
   "cell_type": "markdown",
   "metadata": {},
   "source": [
    "* 이 함수에는 num1, num2, sum 세가지 고유변수가 있고 함수내부에서는 이들 변수에 접근할 수 있지만 함수 밖에서는 불가능하다.\n",
    "* 클로저를 이 함수 안에서 만들면 스코프 체인을 통해 이들 변수에 접근할 수 있다.\n",
    "이런 지식을 활용해서 고유 변수에 접근 가능한 공용 메서드를 만들 수 있다."
   ]
  },
  {
   "cell_type": "markdown",
   "metadata": {},
   "source": [
    "### 7.6.1 특권메서드 \n",
    "* 고유 변수/함수에 접근 가능한 공용 메서드이다."
   ]
  },
  {
   "cell_type": "code",
   "execution_count": null,
   "metadata": {},
   "outputs": [],
   "source": [
    "function MyObject(){\n",
    "    //고유 변수와 함수 \n",
    "    var privateVariable = 10;\n",
    "\n",
    "    function privateFunction(){\n",
    "        return false;\n",
    "    }\n",
    "\n",
    "    //특권 메서드 \n",
    "    this.publicMethod = function(){\n",
    "        privateVariable++;\n",
    "        return privateFunction();\n",
    "    };\n",
    "}"
   ]
  },
  {
   "cell_type": "markdown",
   "metadata": {},
   "source": [
    "* 이 패턴은 생성자 안에서 모든 고유 변수와 함수를 정의한다.\n",
    "* 고유및 특권 멤버를 정의해서 데이터를 직접 수정할 수 없게 보호할 수 있다.\n",
    "* privateVariable과 함수 privateFunction()은 publicMethod()에서만 접근가능하다.\n",
    "  MyObject의 인스턴스를 생성하면 privateVariable과 privateFunction()에 직접적으로 접근할 방법이 없어서 반드시 publicMethod()를 통해야한다."
   ]
  },
  {
   "cell_type": "code",
   "execution_count": 2,
   "metadata": {},
   "outputs": [
    {
     "name": "stdout",
     "output_type": "stream",
     "text": [
      "Nicholas\n",
      "Greg\n"
     ]
    }
   ],
   "source": [
    "function Person(name){\n",
    "    this.getName = function(){\n",
    "      return name;  \n",
    "    };\n",
    "    this.setName = function (value){\n",
    "      name = value;  \n",
    "    };\n",
    "}\n",
    "\n",
    "var person = new Person(\"Nicholas\");\n",
    "console.log(person.getName());\n",
    "person.setName(\"Greg\");\n",
    "console.log(person.getName());"
   ]
  },
  {
   "cell_type": "markdown",
   "metadata": {},
   "source": [
    "* 이 코드의 생성자는 getName()과 setName() 두 메서드를 정의한다. \n",
    "생성자 밖에서 각 메서드에 접근할 수 있고, 각 메서드는 고유변수 name에 접근가능하다. Person 생성자 외부에서 name변수에 직접 접근할 방법이없다.\n",
    "* 두 메서드는 모두 생성자 안에서 정의된 클로저이므로 스코프 체인을 따라 name에 접근 가능\n",
    "* 생성자를 호출할 때마다 메서드가 재 생성되므로 고유 변수 name은 Person의 인스턴스마다 고유하다. \n",
    "* 한 가지 단점은 오직 생성자 패턴을 통해서만 이런 결과가 가능하다.\n",
    "생성자 패턴에는 메서드가 인스턴스마다 생성된다는 결점이 있다. 정적 고유 변수를 사용해 특권 메서드를 만들면 문제는 사라진다."
   ]
  },
  {
   "cell_type": "markdown",
   "metadata": {},
   "source": [
    "### 7.6.2 정적고유변수\n",
    "* 특권 메서드는 고유 변수나 함수를 정의할 때 쓰는 고유 스코프를 통해서 생성할 수 있다."
   ]
  },
  {
   "cell_type": "code",
   "execution_count": 5,
   "metadata": {},
   "outputs": [],
   "source": [
    "(function(){\n",
    "    \n",
    " // 고유 변수와 함수\n",
    "    var privateVariable = 10;\n",
    "    \n",
    "    function privateFunction(){\n",
    "        return false;\n",
    "    }\n",
    "        \n",
    " // 생성자 \n",
    "    MyObject = function(){\n",
    "    };\n",
    "        \n",
    "// 공용 메서드와 특권 메서드 \n",
    "    MyObject.prototype.publicMethod = function(){\n",
    "        privateVariable++;\n",
    "        return privateFunction();\n",
    "    };\n",
    " })();"
   ]
  },
  {
   "cell_type": "markdown",
   "metadata": {},
   "source": [
    "* 이 패턴은 생성자와 메서드를 감싸는 고유 스코프를 만들었다.\n",
    "공용메서드는 프로토 타입에 정의했고, 생성자를 정의할때 함수 선언대신 함수 표현식을 씀\n",
    "\n",
    "* 함수 선언을 쓰면 항상 지역함수가 만들어지는데 이 패턴에서는 바람직하지 않음 (같은이유로 MyObject에 var키워드를 쓰지 않았다.)\n",
    "\n",
    "* 변수를 선언하지 않고 초기화만 하면 항상 전역 변수가 되므로 MyObject는 고유 스코프가 아니라 전역에 위치한다."
   ]
  },
  {
   "cell_type": "code",
   "execution_count": 1,
   "metadata": {},
   "outputs": [
    {
     "name": "stdout",
     "output_type": "stream",
     "text": [
      "Nicholas\n",
      "Greg\n",
      "Michael\n",
      "Michael\n"
     ]
    }
   ],
   "source": [
    "(function(){\n",
    "    \n",
    " var name = \"\";\n",
    "    Person = function(value){\n",
    "      name = value;  \n",
    "    };\n",
    "    \n",
    "    Person.prototype.getName = function() {\n",
    "      return name;  \n",
    "    };\n",
    "    \n",
    "    Person.prototype.setName = function (value){\n",
    "      name = value;  \n",
    "    };\n",
    " })();\n",
    "\n",
    "var person1 = new Person(\"Nicholas\");\n",
    "console.log(person1.getName()); \n",
    "\n",
    "person1.setName(\"Greg\");\n",
    "console.log(person1.getName());\n",
    "\n",
    "var person2 = new Person(\"Michael\");\n",
    "console.log(person1.getName());\n",
    "console.log(person2.getName());"
   ]
  },
  {
   "cell_type": "markdown",
   "metadata": {},
   "source": [
    "* Person 생성자는 getName(),setName() 메서드와 마찬가지로 고유변수 name에 접근할 수 있다. 이 패턴을 쓰면 name 변수는 정적이 되고 모든 인스턴스에서 공유된다.\n",
    "\n",
    "* 즉, 한 인스턴스에서 setNams()을 호출하거나 Person의 새 인스턴스를 만들면 name 변수에 새 값이 반영된다. 따라서 모든 인스턴스가 같은 값을 반환.\n",
    "\n",
    "* 이런식으로 정적고유변수를 생성하면 각 인스턴스가 독립변수를 가질 수 없지만 프로토타입을 통해 코드 재사용성은 좋아진다.\n",
    "\n",
    "\n",
    "<Note>\n",
    "* 변수를 검색할때 스코프 체인을 따라 이동하는 거리가 늘어날 수록 검색시간이 늘어나는데 이는 클로저와 고유 변수 때문이다."
   ]
  },
  {
   "cell_type": "markdown",
   "metadata": {},
   "source": [
    "### 7.6.3 모듈패턴\n",
    "* 이전 패턴에서는 커스텀 타입에 사용할 고유 변수와 특권 메서드를 만듬\n",
    "* 더 글러스 크록토드가 고안한 모듈 패턴은 싱글톤에서 같은 일을 한다.\n",
    "* 싱글톤이란 인스턴스를 단 하나만 갖게 의도한 객체이다.\n",
    "* 전통적으로 자바스크립트에서 싱글톤을 만들 때는 다음 예제와 같이 객체 리터를 표기법을 썼다."
   ]
  },
  {
   "cell_type": "code",
   "execution_count": null,
   "metadata": {},
   "outputs": [],
   "source": [
    " var singleton = {\n",
    "     name : value,\n",
    "     method: function() {\n",
    "         //메서드 코드\n",
    "     }\n",
    " };"
   ]
  },
  {
   "cell_type": "code",
   "execution_count": null,
   "metadata": {},
   "outputs": [],
   "source": [
    "var singletone = fuction(){\n",
    "   //고유 변수와 함수 \n",
    "    var privateVariable = 10;\n",
    "    \n",
    "    function privateFunction(){\n",
    "        return false;\n",
    "    }\n",
    "    \n",
    "    //특권/공용 메서드와 프로퍼티\n",
    "    return {\n",
    "        publicProperty: true,\n",
    "        \n",
    "        publicMethod : function(){\n",
    "            privateVariable++;\n",
    "            return privateFunction();\n",
    "        }\n",
    "    }\n",
    "}();"
   ]
  },
  {
   "cell_type": "markdown",
   "metadata": {},
   "source": [
    "* 모듈 패턴은 다음 형식에 따라 기본 싱글톤을 확장해서 고유변수와 특권 메서드를 쓸 수 있다.\n",
    "* 모듈 패턴은 객체를 반환하는 익명 함수를 사용한다. 익명함수 내부에서는 첫번째로 고유 변수와 함수를 정의한다. \n",
    "* 그다음에 객체 리터럴 함수 값으로 반환하고 반환된 객체 리터럴에는 공용이 될 프로퍼티와 메서드만 들어있다. 객체는 익명 함수 내에서 정의되었으므로 공용 메서드는 모두 고유변수와 함수에 접근이 가능하다.\n",
    "\n",
    "* 요약하면 객체 리터럴이 싱글톤에 대한 공용 인터페이스를 정의하는것. "
   ]
  },
  {
   "cell_type": "code",
   "execution_count": null,
   "metadata": {},
   "outputs": [],
   "source": [
    "var appication = fuction(){ //application 객체 만듬\n",
    "    \n",
    "   //고유 변수와 함수 \n",
    "    var components = new Array();\n",
    "    \n",
    "    // 단순 초기화 (이 코드는 중요하지 않다.)\n",
    "    components.push(new BaseComponent());\n",
    "    \n",
    "    //공용 인터페이스 \n",
    "    return {\n",
    "        getComponentCount : function(){ \n",
    "            return components.length; // 등록된 구성요소 숫자반환\n",
    "        },\n",
    "        \n",
    "        registerComponent: function(component){ //새 구성요소 등록\n",
    "            if (typeof component == \"object\"){\n",
    "                components.push(componenet);\n",
    "            }\n",
    "        }\n",
    "    }\n",
    "}();"
   ]
  },
  {
   "cell_type": "markdown",
   "metadata": {},
   "source": [
    "* components 배열이 생성되고 BaseComponent의 새 인스턴스가 배열에 추가됩니다\n",
    "getComponentCount()와 registerComponent() 메서드는 components 배열에 접근 가능한 특권 메서드이다. \n",
    "* 모듈패턴은 이런경우, 즉 단 하나의 객체를 반드시 생성하고 몇가지 데이터를 가지며, 또한 고유 데이터에 접근 가능한 공용 메서드를 외부에 노출하도록 초기화 해야할때 유용하다.\n",
    "\n",
    "* 이런식으로 생성한 싱글톤은 객체 리터럴을 이용했으므로 모두 Object의 인스턴스이다."
   ]
  },
  {
   "cell_type": "markdown",
   "metadata": {},
   "source": [
    "### 7.6.4 모듈 확장 패턴\n",
    "* 객체를 반환하기 전에 확장하는 패턴\n",
    "* 이 패턴은 싱글톤 객체가 특정 타입의 인스턴스지만 프로터티나 메서드를 추가하여 확장해야 할 때 유용하다.\n",
    "\n",
    "\n"
   ]
  },
  {
   "cell_type": "code",
   "execution_count": null,
   "metadata": {},
   "outputs": [],
   "source": [
    "var singleton = function(){\n",
    "    \n",
    "    //고유 변수와 함수 \n",
    "    var privateVariable = 10;\n",
    "    \n",
    "    function privateVateFunction(){\n",
    "        return false;\n",
    "    }\n",
    "    \n",
    "    //객체 생성 \n",
    "    var object = new CustomType();\n",
    "    \n",
    "    //특권/공용 프로퍼티와 메서드 추가 \n",
    "    object.publicProperty = true;\n",
    "    object.publicMethod = function(){\n",
    "      pricateVariable++;\n",
    "        return privateFunction();\n",
    "    };\n",
    "    \n",
    "    return object;\n",
    "}();"
   ]
  },
  {
   "cell_type": "code",
   "execution_count": 6,
   "metadata": {},
   "outputs": [
    {
     "ename": "ReferenceError",
     "evalue": "BaseComponent is not defined",
     "output_type": "error",
     "traceback": [
      "evalmachine.<anonymous>:7",
      "    components.push(new BaseComponent());",
      "                        ^",
      "",
      "ReferenceError: BaseComponent is not defined",
      "    at evalmachine.<anonymous>:7:25",
      "    at evalmachine.<anonymous>:23:2",
      "    at ContextifyScript.Script.runInThisContext (vm.js:50:33)",
      "    at Object.runInThisContext (vm.js:139:38)",
      "    at run ([eval]:1054:15)",
      "    at onRunRequest ([eval]:888:18)",
      "    at onMessage ([eval]:848:13)",
      "    at emitTwo (events.js:126:13)",
      "    at process.emit (events.js:214:7)",
      "    at emit (internal/child_process.js:772:12)"
     ]
    }
   ],
   "source": [
    "var application = function(){\n",
    "    \n",
    "    // 고유 변수나 함수 \n",
    "    var components = new Array();\n",
    "    \n",
    "    //초기화\n",
    "    components.push(new BaseComponent());\n",
    "    \n",
    "    //애플리케이션 인스턴스 생성 ------위코드와 여기가 차이남\n",
    "    var app = new BaseComponent();\n",
    "    \n",
    "    //공용 인터페이스\n",
    "    app.getComponentCount = function(){\n",
    "      return components.legth;\n",
    "    };\n",
    "    \n",
    "    app.registerComponent = function(component){\n",
    "        if(typeof component == \"object\"){\n",
    "            components.push(component);\n",
    "        }\n",
    "    };\n",
    "    return app;\n",
    "}();"
   ]
  },
  {
   "cell_type": "markdown",
   "metadata": {},
   "source": [
    "* 모듈 패턴 예제의 application 객체가 BaseComponent의 인스턴스여야한다면 다음과 같이 쓴다."
   ]
  },
  {
   "cell_type": "code",
   "execution_count": null,
   "metadata": {},
   "outputs": [],
   "source": []
  }
 ],
 "metadata": {
  "kernelspec": {
   "display_name": "Javascript (Node.js)",
   "language": "javascript",
   "name": "javascript"
  },
  "language_info": {
   "file_extension": ".js",
   "mimetype": "application/javascript",
   "name": "javascript",
   "version": "8.9.4"
  }
 },
 "nbformat": 4,
 "nbformat_minor": 2
}

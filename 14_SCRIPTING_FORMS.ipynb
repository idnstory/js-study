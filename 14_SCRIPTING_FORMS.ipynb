{
 "cells": [
  {
   "cell_type": "markdown",
   "metadata": {},
   "source": [
    "# 14. 폼 스크립트\n",
    "\n",
    "### 이장에서 다루는 내용  \n",
    "- 폼의 기본에 관한 이해  \n",
    "- 텍스트 박스 유효성 검사와 상호작용\n",
    "- 다른 폼 컨트롤 사용  \n",
    "\n",
    "자바스크립트의 원래 목적 중 하나는 폼 처리를 브라우저에서 분담하여 서버까지 왕복하는 일을 줄이자는 것이었다.  \n",
    "\n",
    "### 14.1 폼 기본 \n",
    "웹 폼은 HTML 에서는 `<form>` 요소로, 자바스크립트에서는 HTMLFormElement 타입으로 표현된다. \n",
    "HTMLFormElement 타입은 HTMLElement를 상속하므로 다른 HTML 요소와 같은 기본 프로퍼티를 가진다.  \n",
    "\n",
    "<img src=\"14_1.png\" width=400px>\n",
    "\n",
    "`<form>` 요소에 대한 참조는 여러가지 방법으로 얻으나 가장 많이 쓰는 방법은 다른 요소와 마찬가지로 id 속성을 지정한 후 getElementById()를 이용하는것이다. "
   ]
  },
  {
   "cell_type": "code",
   "execution_count": 1,
   "metadata": {},
   "outputs": [
    {
     "ename": "ReferenceError",
     "evalue": "document is not defined",
     "output_type": "error",
     "traceback": [
      "evalmachine.<anonymous>:2",
      "var form = document.getElementById('form1');",
      "           ^",
      "",
      "ReferenceError: document is not defined",
      "    at evalmachine.<anonymous>:2:12",
      "    at ContextifyScript.Script.runInThisContext (vm.js:50:33)",
      "    at Object.runInThisContext (vm.js:139:38)",
      "    at run ([eval]:1054:15)",
      "    at onRunRequest ([eval]:888:18)",
      "    at onMessage ([eval]:848:13)",
      "    at emitTwo (events.js:126:13)",
      "    at process.emit (events.js:214:7)",
      "    at emit (internal/child_process.js:772:12)",
      "    at _combinedTickCallback (internal/process/next_tick.js:141:11)"
     ]
    }
   ],
   "source": [
    "// 폼 접근 예제 \n",
    "var form = document.getElementById('form1');\n",
    "\n",
    "var firstForm = document.forms[0];       // 페이지의 첫 번째 폼\n",
    "var myForm = document.forms['form2'];    // 이름이 'form2'인 폼\n"
   ]
  },
  {
   "cell_type": "markdown",
   "metadata": {},
   "source": [
    "\n",
    "### 14.1.1 폼전송 \n",
    "사용자가 전송 버튼이나 이미지 버튼을 누르면 폼이 전송된다.  \n",
    "전송 버튼은 `<input>` 요소의 type 속성을 \"submit\"으로 지정해서 정의하고 이미지 버튼은 `<input>` 요소의 type 속성을 'image'로 지정해서 정의한다.\n",
    "\n",
    "#### 범용 전송 버튼   \n",
    "`<input type=\"submit\" value=\"Submit Form\">`  \n",
    "\n",
    "#### 커스텀 전송 버튼 \n",
    "`<button type=:\"submit\">Submit Form</button>`  \n",
    "\n",
    "#### 이미지 버튼 \n",
    "`<input type=\"image\" src=\"graphic.gif\">`  "
   ]
  },
  {
   "cell_type": "code",
   "execution_count": null,
   "metadata": {},
   "outputs": [],
   "source": [
    "// 폼 전송을 막는 방법\n",
    "var form = document.getElementById('myForm');\n",
    "EventUtil.addHandler(form, 'submit', function (event) {\n",
    "    // 이벤트 객체\n",
    "    event = EventUtil.getEvent(event);\n",
    "    \n",
    "    // 폼 전송 방지\n",
    "    EventUtil.preventDefault(event);\n",
    "})\n",
    "\n",
    "\n",
    "// 폼 전송하기\n",
    "form.submit();\n"
   ]
  },
  {
   "cell_type": "markdown",
   "metadata": {},
   "source": [
    "\n",
    "### 14.1.2 폼 리셋\n",
    "사용자가 리셋 버튼을 클릭하면 폼이 리셋된다.  \n",
    "\n",
    "#### 범용 리셋 버튼  \n",
    "`<input type=\"reset\" value=\"Reset Form\">`  \n",
    "\n",
    "#### 커스텀 리셋 버튼  \n",
    "`<button type=\"reset\">Reset Form</button>`\n",
    "\n",
    "#### 폼 필드의 공통 프로퍼티  \n",
    "<img src=\"14_2.png\" width=500px>\n"
   ]
  },
  {
   "cell_type": "code",
   "execution_count": null,
   "metadata": {},
   "outputs": [],
   "source": [
    "// 폼 필드의 프로퍼티에는 자바스크립트로 접근이 가능하다.\n",
    "var form = document.getElementById('myForm');\n",
    "var field = form.elements[0]\n",
    "\n",
    "// value 변경\n",
    "field.value = '얌마!';\n",
    "\n",
    "// form 확인\n",
    "alert(field.form === form)\n",
    "\n",
    "// focus 부여\n",
    "field.focus();\n",
    "\n",
    "// 필드 비활성화\n",
    "field.disabled = true;\n"
   ]
  },
  {
   "cell_type": "markdown",
   "metadata": {},
   "source": [
    "#### 공통 폼 필드 메서드 \n",
    "각 폼 필드에 공통인 메서드는 focus()와 blur()이다. \n",
    "HTML5 부터는 요소에 autoFocus 속성을 지원한다.  \n",
    "`<input type=\"text\" autofocus>`  \n",
    "\n",
    "focus: https://developers.google.com/web/fundamentals/accessibility/focus?hl=ko\n",
    "\n",
    "blur: https://developer.mozilla.org/ko/docs/Web/Events/blur\n",
    "\n",
    "\n",
    "#### 폼 필드 공통 이벤트  \n",
    "blur: 필드가 포커스를 잃을 때 발생한다.  \n",
    "\n",
    "change: 필드가 포커스를 잃고 input이나 textarea 요소에서는 value가 바뀔 때, select 요소에서는 선택된 옵션이 바뀔 때 발생한다.  \n",
    "\n",
    "focus: 필드가 포커스를 받을 때 발생한다.\n",
    "\n",
    " \n",
    " \n",
    "### 14.2 텍스트 박스 스크립트  \n",
    "두 가지 종류의 텍스트 박스 요소가 있다. \n",
    "\n",
    "첫 번째는 한 줄짜리 텍스트 박스인 `<input>` 요소이다. (https://www.w3schools.com/tags/att_input_type_text.asp)  \n",
    "\n",
    "두 번째는 여러 줄짜리 텍스트 박스인 `<textarea>` 요소이다. (https://www.w3schools.com/tags/att_textarea_form.asp)  \n",
    "  \n",
    "  \n",
    "#### 14.2.1 텍스트 선택 \n",
    "텍스트 박스의 텍스트 전체를 선택하는 select()라는 메서드를 지원한다.  "
   ]
  },
  {
   "cell_type": "code",
   "execution_count": null,
   "metadata": {},
   "outputs": [],
   "source": [
    "var textbox = document.forms[0].elements['textbox1'];\n",
    "textbox.select();"
   ]
  },
  {
   "cell_type": "markdown",
   "metadata": {},
   "source": [
    "#### 다양한 select 메서드  \n",
    "\n",
    "onselect: w3schools.com/jsref/event_onselect.asp  \n",
    "\n",
    "selectionStart: https://developer.mozilla.org/en-US/docs/Archive/Mozilla/XUL/Property/selectionStart  \n",
    "\n",
    "selectionEnd: https://developer.mozilla.org/en-US/docs/Archive/Mozilla/XUL/Property/selectionEnd \n",
    "\n",
    "setSelectionsRange: https://developer.mozilla.org/en-US/docs/Web/API/HTMLInputElement/setSelectionRange  \n",
    "\n",
    "\n",
    "#### 입력 필터링  \n",
    "필드에 따라서 특정 문자가 있어야 하거나 없어야 할 때가 있다. \n",
    "아래 이벤트를 활용하여 특정 문자를 차단할 수 있다.  \n"
   ]
  },
  {
   "cell_type": "code",
   "execution_count": null,
   "metadata": {},
   "outputs": [],
   "source": [
    "// 문자거부 예제, 아래 예제를 활용하여 다양한 문자 필터링 가능 \n",
    "EventUtil.addHandler(textbox, 'keypress', function (e) {\n",
    "    e = EventUtil.getEvent(e);\n",
    "    var target = EventUtil.getTarget(e);\n",
    "    var charCode = EventUtil.getCharCode(e);\n",
    "    \n",
    "    if (!/\\d/.test(String.fromCharCode(charCode))) {\n",
    "        EventUtil.preventDefault(e);\n",
    "    }\n",
    "})\n"
   ]
  },
  {
   "cell_type": "markdown",
   "metadata": {},
   "source": [
    "#### 클립보드 활용\n",
    "클립보드와 관련된 이벤트 목록 \n",
    "- beforecopy: 복사하기 직전에 발생\n",
    "- copy: 복사할 때 발생\n",
    "- beforecut: 잘라내기 직전에 발생\n",
    "- cut: 잘라낼 때 발생\n",
    "- beforepaste: 붙여넣기 직전에 발생  \n",
    "- paste: 붙여넣을 때 발생  \n",
    "- https://developer.mozilla.org/en-US/docs/Web/API/ClipboardEvent\n",
    "\n",
    "\n",
    "### 14.2.3 자동 탭 이동  \n",
    "예제: https://www.bluekeyinteractive.com/auto-tab-html-input-fields/\n",
    " \n",
    " \n",
    "  \n",
    "### 14.2.4 HTML5 유효성 검사 API \n",
    "#### required 속성 \n",
    "- https://www.w3schools.com/tags/att_input_required.asp\n",
    "\n",
    "#### input type 속성 \n",
    "- https://www.w3schools.com/html/html_form_input_types.asp\n",
    "\n",
    "#### input number min, max 속성 \n",
    "- https://www.w3schools.com/tags/att_input_type_number.asp\n",
    "\n",
    "#### pattern 속성\n",
    "- https://www.w3schools.com/tags/att_input_pattern.asp\n",
    "\n",
    "#### validate 메소드 \n",
    "- https://www.w3schools.com/js/js_validation_api.asp  \n",
    "\n",
    "#### validate 비활성화 \n",
    "- https://www.w3schools.com/tags/att_form_novalidate.asp\n",
    "\n",
    "\n",
    "## 14.3 select 요소 스크립트 \n",
    "API에 대한 설명이 주로 이루어져 있어 아래 URL을 통해 속성 및 메소드 내용 참고  \n",
    "- https://www.w3schools.com/jsref/dom_obj_select.asp\n",
    "\n",
    "\n",
    "\n",
    "## 14.4 폼 직렬화 \n",
    "Ajax가 등장하면서 '폼 직렬화'가 주요 과제가 되었다.  \n",
    "자바스크립트로 폼을 직렬화할 때는 type과 name, value 프로퍼티를 함께 사용한다.  \n",
    "아래는 스크립트로 직렬화를 시키는 예제이다. \n",
    "- https://gist.github.com/bullgare/5336154 \n",
    "- https://codepen.io/gabrieleromanato/pen/LpLVeQ\n",
    "- https://gomakethings.com/how-to-serialize-form-data-with-vanilla-js/ \n",
    "\n",
    "\n",
    "## 14.5 리치 텍스트 편집  \n",
    "웹 애플리케이션에서 가장 흔히 필요한 기능은 웹 페이지의 리치 텍스트를 편집하는 기능('위지윅')이다.  \n",
    "이에 관한 명세는 존재하지 않지만 원래 인터넷 익스플로러에서 처음 도입하고 이제 거의 모든 브라우저에서 지원하게 되었다.  \n",
    "\n",
    "#### contenteditable\n",
    "- https://developer.mozilla.org/ko/docs/Web/HTML/Global_attributes/contenteditable\n",
    " \n",
    " \n",
    "#### 리치 텍스트 편집 API\n",
    "- https://developer.mozilla.org/ko/docs/Web/API/Document/execCommand \n",
    "\n",
    "\n",
    "#### 리치 텍스트 선택 \n",
    "- https://developer.mozilla.org/ko/docs/Web/API/Window/getSelection  \n",
    "\n",
    "\n",
    "\n",
    "## 14.6 요약 \n",
    "HTML과 앱 애플리케이션은 매우 많이 발전했지만 웹 폼은 거의 바뀌지 않았다.  \n",
    "자바스크립트를 이용해 이미 존재하는 폼 필드를 확장해서 새 기능을 추가하고 사용성을 올릴 수 있다.  "
   ]
  },
  {
   "cell_type": "code",
   "execution_count": null,
   "metadata": {},
   "outputs": [],
   "source": [
    "\n",
    "\n"
   ]
  }
 ],
 "metadata": {
  "kernelspec": {
   "display_name": "Javascript (Node.js)",
   "language": "javascript",
   "name": "javascript"
  },
  "language_info": {
   "file_extension": ".js",
   "mimetype": "application/javascript",
   "name": "javascript",
   "version": "8.9.4"
  }
 },
 "nbformat": 4,
 "nbformat_minor": 2
}

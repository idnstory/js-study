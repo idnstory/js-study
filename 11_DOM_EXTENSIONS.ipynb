{
 "cells": [
  {
   "cell_type": "markdown",
   "metadata": {},
   "source": [
    "## 11. DOM 확장\n",
    "#### 이장에서 다루는 내용\n",
    "- 선택자 API에 대한 이해\n",
    "- HTML5 DOM 확장 사용\n",
    "- 브라우저 전용 DOM 확장 사용  \n",
    "\n",
    "\n",
    "### 11.1 선택자 API\n",
    "자바스크립트 라이브러리에서 가장 인기 있는 기능은 CSS 선택자로 패턴을 만들고 그에 맞는 DOM 요소를 선택하는 능력이다.  \n",
    "그중에서도 jQuery 라이브러리는 getElementById()나 getElementsByTagName()으로 요소에 대한 참조를 얻지 않고 완전히 CSS 선택자에 기초하여 DOM 문서를 쿼리합니다.  \n",
    "\n",
    "셀렉터(selector)는 기초적인 CSS 파서를 만들고 기존의 DOM 메서드를 이용해 문서 노드를 이동하며 패턴에 일치하는 노드를 골라내는 방식을 사용했다. (성능 이슈가 있음)  \n",
    "하지만 이 동작을 네이티브 API로 구현함으로써 파싱과 트리 이동을 브라우저 레벨에서 컴파일된 언어로 처리하게 되었고 따라서 성능은 비약적으로 향상되었다.\n",
    "\n",
    "\n",
    "#### 참고자료\n",
    "- https://www.w3.org/TR/selectors-api/\n",
    "- https://developer.mozilla.org/en-US/docs/Web/API/Document_object_model/Locating_DOM_elements_using_selectors\n",
    "- https://hashcode.co.kr/questions/5692/%EA%B0%95%EC%9D%98-4-11-queryselector%EC%97%90-%EC%84%B1%EB%8A%A5%EB%AC%B8%EC%A0%9C%EC%97%90-%EB%8C%80%ED%95%B4-%EC%A7%88%EB%AC%B8-%EB%93%9C%EB%A6%BD%EB%8B%88%EB%8B%A4\n",
    "- https://www.reddit.com/r/learnjavascript/comments/356k1v/confused_on_queryselector_and_getelementbyid/\n",
    "\n",
    "\n",
    "#### 11.1.1 querySelector() 메서드\n",
    "querySelector() 메서드는 매개변수로 CSS 쿼리를 받고 패턴에 일치하는 첫 번째 자손 요소를 반환하며 일치하는 것이 없다면 null을 반환한다. \n",
    "\n",
    "querySelector() 메서드를 Document 타입에서 호출하면 패턴에 맞는 요소를 문서에서 찾으며 Element 타입에서 호출하면 해당 요소의 자손에서만 쿼리합니다.\n"
   ]
  },
  {
   "cell_type": "code",
   "execution_count": null,
   "metadata": {},
   "outputs": [],
   "source": [
    "// body 요소를 가져온다.\n",
    "document.querySelector('body');\n",
    "\n",
    "// IDrk \"myDiv\"인 요소를 가져온다.\n",
    "document.querySelector('#myDiv');\n",
    "\n",
    "// 클래스가 'selected'인 요소 중 첫번째를 가져온다.\n",
    "document.querySelector('.selected');\n",
    "\n",
    "// 클래스가 'button'인 이미지 중 첫 번째를 가져온다.\n",
    "document.querySelector('img.button');\n"
   ]
  },
  {
   "cell_type": "markdown",
   "metadata": {},
   "source": [
    "\n",
    "\n",
    "####  11.1.2 querySelectorAll() 메서드\n",
    "CSS 쿼리를 매개변수로 받되 일치하는 노드 전체를 반환한다.  \n",
    "이 메서드는 NodeList의 정적 인스턴스를 반환한다. \n",
    "다시 말해 반환 값은 NodeList의 프로퍼티와 메서드를 모두 갖지만 접근할 때 마다 다시 쿼리하는 것이 아니라, 처음 접근했을 때의 상태만 반영한 채 고정된다. \n",
    "이렇게 구현함으로써 NodeList 객체에 결부된 성능 문제가 대부분 해결되었다.  \n"
   ]
  },
  {
   "cell_type": "code",
   "execution_count": 2,
   "metadata": {},
   "outputs": [
    {
     "ename": "ReferenceError",
     "evalue": "document is not defined",
     "output_type": "error",
     "traceback": [
      "evalmachine.<anonymous>:2",
      "var ems = document.getElementById('notebook_panel').querySelectorAll('div')",
      "          ^",
      "",
      "ReferenceError: document is not defined",
      "    at evalmachine.<anonymous>:2:11",
      "    at ContextifyScript.Script.runInThisContext (vm.js:50:33)",
      "    at Object.runInThisContext (vm.js:139:38)",
      "    at run ([eval]:1054:15)",
      "    at onRunRequest ([eval]:888:18)",
      "    at onMessage ([eval]:848:13)",
      "    at emitTwo (events.js:126:13)",
      "    at process.emit (events.js:214:7)",
      "    at emit (internal/child_process.js:772:12)",
      "    at _combinedTickCallback (internal/process/next_tick.js:141:11)"
     ]
    }
   ],
   "source": [
    "// 해당 ID를 가진 엘리먼트에 자손 DIV 요소를 모두 가져온다.\n",
    "var ems = document.getElementById('notebook_panel').querySelectorAll('div')\n",
    "\n",
    "// 클래스가 'cell'인 요소를 모두 가져온다.\n",
    "var cells = document.querySelectorAll('.cell');\n",
    "\n",
    "// body 오소에 포함된 div 요소를 모두 가져온다.\n",
    "var divs = document.querySelectorAll('body div');"
   ]
  },
  {
   "cell_type": "markdown",
   "metadata": {},
   "source": [
    "\n",
    "\n",
    "#### 11.1.3 matchesSelector() 메서드\n",
    "선택자 API 레벨 2 명세에는 Element 타입에 matchesSelector()라는 메서드를 정의했다.  \n",
    "이 메서드는 매개변수로 CSS 선택자를 받고 요소가 그에 일치여부에 따라 Boolean 값을 반환한다.\n"
   ]
  },
  {
   "cell_type": "code",
   "execution_count": null,
   "metadata": {},
   "outputs": [],
   "source": [
    "// 현재는 지원 안하는 문법이며 'webkitMatchesSelector'로 지원하고 있음\n",
    "if (document.body.matchesSelector('body.page1')) {\n",
    "    console.log('is True!')\n",
    "}"
   ]
  },
  {
   "cell_type": "markdown",
   "metadata": {},
   "source": [
    "\n",
    "\n",
    "### 11.2 요소 간 이동\n",
    "버전 9 미만의 ie는 타 브라우저와 달리 요소 사이의 공백을 텍스트 노드로 반환하지 않았다. \n",
    "이 때문에 childNodes나 firstChild 같은 프로퍼티를 사용할 때 차이가 발생햇따.  \n",
    "DOM 명세를 유지하면서 브라우저 사이의 차이를 극복하려는 노력으로 요소간 이동 명세에서는 새 프로퍼티 그룹을 정의했다.\n",
    "- childElementCount: 자식 요소 숫자를 반환하되 텍스트 노드와 주석은 제외합니다.\n",
    "- firstElementChild: 천 번째 자식 요소를 가리킨다.\n",
    "- lasElementChild: 마지막 자식 요소를 가리킨다.\n",
    "- previousElementSibling: 이전 형제 요소를 가리킨다.\n",
    "- nextElementSibling: 다음 형제 요소를 가리킨다. "
   ]
  },
  {
   "cell_type": "markdown",
   "metadata": {},
   "source": [
    "\n",
    "\n",
    "### HTML5\n",
    "HTML5는 오래된 HTML의 나쁜 부분을 대부분 버렸다. \n",
    "이전의 HTML 명세는 자바스크립트 인터페이스에 대해서는 간단히만 설명하고 마크업 언어에만 집중했으며 자바스크립트와의 연결은 DOM 명세에 미뤘다.  \n",
    "반면 HTML5 명세는 마크업 언어와 함께 사용하도록 디자인된 자바스크립트 API를 상세히 설명하고 정의한다. \n",
    "이들 API 일부는 DOM과 겹치며 브라우저들이 제공해야 할 DOM 확장을 정의한다. \n",
    "\n",
    "\n",
    "#### 11.3.1 클래스 관련 추가사항\n",
    "HTML4 이래 웹에서 가장 많이 바뀐 점이라면 class 속성을 통해 요소의 시맨틱 정보와 스타일 정보를 함께 전달하는 사례가 늘었다.  \n",
    "이러한 변화로 자바스크립트에서도 CSS 클래스를 적극 활용하여 동적으로 클래스를 바꾸거나 주어진 클래스를 바탕으로 문서를 쿼리하여 요소를 찾는 등의 움직임이 나타났다.  \n",
    "\n",
    "#### getElementsByClassName() 메서드"
   ]
  },
  {
   "cell_type": "code",
   "execution_count": null,
   "metadata": {},
   "outputs": [],
   "source": [
    "// 순서와 상관없이 해당 클래스를 모두 포함한 요소를 찾는다.\n",
    "var allPrompt = document.getElementsByClassName('prompt input_prompt');\n",
    "\n",
    "// myDiv의 자손 중에 'seleceted' 클래스가 있는 요소를 모두 찾는다.\n",
    "var selected = document.getElementById('myDiv').getElementsByClassName('selected');\n"
   ]
  },
  {
   "cell_type": "markdown",
   "metadata": {},
   "source": [
    "#### classList 프로퍼티  \n",
    "클래스 이름을 조작할 때에 사용한다.\n",
    "- add(value): 주어진 문자열 값을 목록에 추가한다. 값이 이미 존재하면 추가하지 않는다.\n",
    "- contains(value): 주어진 값이 목록 존재여부를 Boolean으로 반환한다.\n",
    "- remove(value): 주어진 문자열 값을 목록에서 제거한다.\n",
    "- toggle(value): 값이 목록에 존재하면 제거하고 그렇지 않으면 추가한다.  "
   ]
  },
  {
   "cell_type": "code",
   "execution_count": null,
   "metadata": {},
   "outputs": [],
   "source": [
    "// 'disabled' 클래스 추가\n",
    "div.classList.add('disabled');\n",
    "\n",
    "// 'disabled' 클래스 제거\n",
    "div.classList.remove('disabled');\n",
    "\n",
    "// 'disabled' 클래스 토글\n",
    "div.classList.toggle('disabled');\n",
    "\n",
    "// 현재 클래스 확인\n",
    "if (div.classList.contains('disabled')) {\n",
    "    console.log('is Contains!')\n",
    "}\n",
    "\n",
    "// 클래스 이름 순회\n",
    "for (var i = 0; i < div.classList.length; i++) {\n",
    "    testFunc(div.classList[i]);\n",
    "}\n"
   ]
  },
  {
   "cell_type": "markdown",
   "metadata": {},
   "source": [
    "#### 11.3.2 포커스 관리"
   ]
  },
  {
   "cell_type": "code",
   "execution_count": null,
   "metadata": {},
   "outputs": [],
   "source": [
    "// 현재 포커스를 가진 DOM 요소 확인\n",
    "var button = document.getElementById('myButton');\n",
    "button.focus();\n",
    "console.log(document.activeElement === button);\n",
    "\n",
    "// 문서에 포커스가 된 요소가 있는지 확인\n",
    "var button = document.getElementById('myButton');\n",
    "button.focus();\n",
    "console.log(document.hasFocus());\n"
   ]
  },
  {
   "cell_type": "markdown",
   "metadata": {},
   "source": [
    "#### 11.3.3 HTMLDocument의 변화\n",
    "readyState 프로퍼티\n",
    "- loading: 문서를 불러오는 중\n",
    "- complete: 문서를 완전히 불러옴\n",
    "\n",
    "< head> 프로퍼티\n",
    "head 요소와 body 요소를 가리키는 document.head / document.body 프로퍼티 도입\n",
    "\n",
    "\n",
    "#### 11.3.4 문자셋 프로퍼티\n",
    "document.charset = \"UTF-8\";\n",
    "\n",
    "\n",
    "#### 11.3.5 커스텀 데이터 속성\n",
    "요소의 렌더링에 필요한 정보나 시맨틱 값이 아닌 데이터를 접두사 data-가 붙은 비표준 속성을 제공한다.  \n",
    "< div id=\"myDiv\" data-appId='jsh' data-age='12'>< div>\n",
    "\n",
    "\n",
    "#### 11.3.6 마크업 삽입  \n",
    "- innerHtml 프로퍼티: 요소와 주석, 텍스트 노드 등의 자식 노드를 모두 나타내는 HTML 표현을 반환한다. 브라우저마다 반환값이 같지는 않다.  \n",
    "- outerHTML 프로퍼티: 읽기모드에서 호출하면 HTML 요소를 자식 노드와 함께 반환, 쓰기 모드에서 호출하면 주어진 HTML 문자열을 파싱하여 DOM 서브트리를 생성하고 호출한 노드 전체를 교체한다.  "
   ]
  },
  {
   "cell_type": "code",
   "execution_count": null,
   "metadata": {},
   "outputs": [],
   "source": [
    "// innerHTML\n",
    "document.getElementById('notebook').innerHTML\n",
    "document.getElementById('notebook').innerHTML = 'Hello & Welcome, <b>\\\"reader\\\"!</b>';\n",
    "\n",
    "\n",
    "// outerHTML\n",
    "document.getElementById('notebook').outerHTML\n",
    "document.getElementById('notebook').outerHTML = 'Hello & Welcome, <b>\\\"reader\\\"!</b>';"
   ]
  },
  {
   "cell_type": "markdown",
   "metadata": {},
   "source": [
    "#### 11.3.7 scrollintoView() 메서드\n",
    "- https://developer.mozilla.org/ko/docs/Web/API/Element/scrollIntoView\n",
    "\n",
    "\n",
    "#### insertAdjacentHTML() 메서드\n",
    "- beforebegin: 호출한 요소 바로 앞에 삽입\n",
    "- afterbegin: 호출한 요소의 첫 번째 자식 요소 바로 앞에 삽입\n",
    "- beforeend: 호출한 요소의 마지막 자식 요소 바로 다음에 삽입\n",
    "- afterend: 호출한 요소 바로 다음에 삽입"
   ]
  },
  {
   "cell_type": "code",
   "execution_count": null,
   "metadata": {},
   "outputs": [],
   "source": [
    "element.insertAdjacentHTML('beforebegin', '<p> p 태그 삽입해라 </p>')"
   ]
  },
  {
   "cell_type": "markdown",
   "metadata": {},
   "source": [
    "이 섹션에서 설명한 메서드로 자식 노드를 교체하면 메모리 문제가 생길 수 있다.  \n",
    "특히 인터넷 익스플로러에서 심하다.  \n",
    "문제가 발생하는 지점은 제거한 서브트리 요소에 이벤트 핸들러나 자바스크립트 객체가 할당되어 있을 때 이다. \n",
    "엘리먼트와 스크립트 사이의 연결이 메모리에 남기때문이다. \n"
   ]
  },
  {
   "cell_type": "markdown",
   "metadata": {},
   "source": [
    "### 11.4 전용 확장\n",
    "브라우저 제조사들이 표준의 중요성을 잘 인식하기는하지만 이와는 별개로 DOM 전용 확장을 계속 추가하고 있다.  \n",
    "\n",
    "\n",
    "#### 11.4.1 문서모드 \n",
    "해당 페이지에서 어떤 기능을 사용할 수 있는지 나타낸다.  \n",
    "즉 각 모드마다 CSS 지원 레벨, 지원하는 자바스크립트 기능 숫자, 독타입을 처리하는 방법이 다르다. \n",
    "https://aboooks.tistory.com/357   \n",
    "\n",
    "\n",
    "#### 11.4.2  children 프로퍼티\n",
    "var childCount = element.children.length;   \n",
    "var firstChild = element.children[0];\n",
    "\n",
    "https://rootjang92.github.io/2019/01/18/DOM/\n",
    "\n",
    "\n",
    "#### 11.4.3 contains() 메서드\n",
    "주어진 노드가 다른 노드의 자손인지 알아야 할 때가 많다.  \n",
    "이 메서드를 사용하면 문서 트리를 순회하지 않고도 주어진 노드가 다른 노드의 자손인지 확인 가능하다.  \n",
    "document.documentElement.contains(document.body);\n",
    "\n",
    "\n",
    "#### 11.4.4 마크업 삽입\n",
    "- innerText: 읽기 모드에서는 해당 요소가 포함하고 있는 텍스트를 반환한다. 쓰기 모드에서는 자식 노드 전체를 제거하여 DOM 서브트리를 완전히 바꾼다.\n",
    "- outerText: 읽기 모드는 위와 같이 동작한다. 하지만 쓰기모드에서는 호출한 요소의 자식 노드만 교체하는 것이 아니라 자식 노드를 포함한 전체 요소를 교체한다.  \n",
    "\n",
    "\n",
    "#### 11.4.5 스크롤\n",
    "- scrollIntoViewIfNeeded(alignCenter): 호출한 요소가 뷰포트에서 보이지 않을 경우에만 브라우저 창 또는 컨테이너 요소를 스크롤해서 요소가 뷰포트에 보이게 한다. alignCenter 매개변수는 옵션이면 true를 넘기면 요스를 뷰포트 중앙에 배치할 수 있는지 시도한다.  \n",
    "\n",
    "\n",
    "이거 뭔지 모르겠음.\n",
    "- scrollByLines(lineCount): 주어진 숫자의 텍스트 줄 높이만큼 요소를 스크롤한다. 양수와 음수 모두 쓸 수 있다.\n",
    "- scrollByPage(pageCount) - 주어진 수잦의 페이지 높이만큼 요소를 스크롤한다. '페이지 높이'는 요소의 높이를 기준으로 판단한다.\n",
    "\n",
    "\n",
    "\n",
    "### 11.5 요약\n",
    "- 선택자 API는 CSS 선택자에 기반해 DOM 요소를 선택해 반환하는 querySelector(), querySelectorAll() 두 가지 메서드를 정의한다. \n",
    "- 요소 이동은 DOM 요소에서 다음 관련된 DOM 요소로 쉽게 이동하는 프로퍼티를 몇가지 정의한다. 이 명세가 필요하게 된 주된 이유는 브라우저마다 DOM에 있는 공백을 다르게 취급하기 때문이다.  \n",
    "- HTML5는 표준 DOM에 여러 가지 확장을 추가한다. 추가된 확장에는 innerHTML 같은 사실상의 표준을 표준으로 확정하고 포커스 관리, 문자셋, 스크롤등을 다루는 기능을 추가했다."
   ]
  }
 ],
 "metadata": {
  "kernelspec": {
   "display_name": "Javascript (Node.js)",
   "language": "javascript",
   "name": "javascript"
  },
  "language_info": {
   "file_extension": ".js",
   "mimetype": "application/javascript",
   "name": "javascript",
   "version": "8.9.4"
  }
 },
 "nbformat": 4,
 "nbformat_minor": 2
}

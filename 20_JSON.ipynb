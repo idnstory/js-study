{
 "cells": [
  {
   "cell_type": "markdown",
   "metadata": {},
   "source": [
    "# 20장 JSON\n",
    "\n",
    "### 이 장에서 다루는 내용\n",
    "- JSON 문법의 이해\n",
    "- JSON 파싱\n",
    "- JSON 직렬화\n",
    "\n",
    "XML이 인터넷에서 구조화된 데이터를 주고받는 사실상의 표준이던 때가 있었다.  \n",
    "초기 웹 서비스는 거의 XML 기반이었고 서버 간 통신 위주였다.  \n",
    "하지만 XML 에도 단점이 많고, XML은 지나치게 복잡하고 비대하다고 생각하는 개발자들이 생겼다.  \n",
    "이 문제에 대해 여러가지 해결책이 등장했지만 웹은 이미 새로운 방향으로 흐르기 시작했다.  \n",
    "\n",
    "JSON에서 가장 중요한 점은 JSON이 프로그래밍 언어가 아니라 데이터 형식임을 이해하는 것이다.  \n",
    "JSON이 자바스크립트와 문법을 공유하긴 하지만 자바스크립트의 일부분은 아니다.  \n",
    "또한 JSON은 데이터 형식이므로 자바스크립트 전용도 아니다.  \n",
    "많은 프로그래밍 언어에서 JSON 파싱과 직렬화를 지원한다.  \n",
    "\n",
    "**JSON**\n",
    "- https://developer.mozilla.org/ko/docs/Web/JavaScript/Reference/Global_Objects/JSON\n",
    "\n",
    "\n",
    "## 20.1 문법 \n",
    "\n",
    "JSON 문법은 세 가지 타입을 사용한다.  \n",
    "\n",
    "- 단순한 값 \n",
    "    - JSON에서 문자열, 숫자, 불리언, null은 모두 자바스크립트와 같은 문법으로 표현한다. undefined는 지원되지 않는다.\n",
    "- 객체\n",
    "    - 객체는 순서 있는 key-value 쌍으로 표현한다. 각 값은 원시 타입일 수도 있고 객체나 배열 같은 복잡한 타입일 수도 있다.  \n",
    "- 배열 \n",
    "    - 배열은 숫자형 색인으로 접근할 수 있는, 순서 있는 목록으로 표현한다. 각 값은 단순한 값이나 객체, 다른 배열등을 모두 쓸 수 있다. \n",
    "    \n",
    "JSON에는 변수나 함수, 객체 인스턴스는 존재하지 않는다. JSON은 구조화된 데이터를 표현하는 방식일 뿐이며 자바스크립트 문법과 매우 비슷하지만, 자바스크립트 패러다임과 혼동해서는 안된다.  \n",
    "\n",
    "\n",
    "### 20.1.1 단순한 값\n",
    "\n",
    "단순한 값은 JSON에서도 가장 단순한 형태로 표현한다.  \n",
    "예르 들어 다음은 유효한 JSON 이다.\n",
    "```javascript\n",
    "5\n",
    "\n",
    "\"Hello world!\"\n",
    "```\n",
    "\n",
    "자바스크립트 문자열과 JSON 문자열의 차이는 JSON 문자열은 반드시 큰따옴표로 감싸야만 유효하다는 점이다. (작은 따옴표 사용 시 문법 에러 발생)  \n",
    "\n",
    "\n",
    "### 20.1.2 객체  \n",
    "\n",
    "JSON 객체는 객체 리터럴 표기법과 매우 비슷하다.  \n",
    "자바스크립트의 객체 리터럴은 다음과 같다.  \n",
    "```javascript\n",
    "var person = {\n",
    "    name: \"Nicholas\",\n",
    "    age: 29\n",
    "};\n",
    "```\n",
    "\n",
    "개발자들이 객체 리터럴을 생성할 때는 거의 이 형식을 쓰지만 JSON에서는 프로퍼티 이름도 따옴표로 묶어야 한다.  \n",
    "```javascript\n",
    "{\n",
    "    \"name\": \"Nicholas\",\n",
    "    \"age\": 29\n",
    "}\n",
    "```\n",
    "\n",
    "자바스크릡트 예제와는 몇 가지 다른 점이 있다.  \n",
    "첫번째, 변수 선언이 없다.  \n",
    "두번째, 문장을 마치는 세미콜론이 없다.  \n",
    "값은 JSON에서 허용하는 모든 타입을 쓸 수 있으며 다음과 같이 객체 안에 객체를 써도 된다.  \n",
    "```javascript\n",
    "{\n",
    "    \"name\": \"Nicholas\",\n",
    "    \"age\": 29,\n",
    "    \"school\": {\n",
    "        \"name\": \"harvard\",\n",
    "        \"location\": \"North America\"\n",
    "    }\n",
    "}\n",
    "```\n",
    "\n",
    "\n",
    "### 20.1.3 배열  \n",
    "JSON 배열은 자바스크립트의 배열 리터럴 표기법으로 표현한다.  \n",
    "```javascript\n",
    "// javascript\n",
    "var values = [25, \"hi\", true];\n",
    "\n",
    "// json\n",
    "[25, \"hi\", true]\n",
    "```\n",
    "\n",
    "\n",
    "## 20.2 파싱과 직렬화  \n",
    "\n",
    "JSON의 인기는 친근한 문법에서 비롯한다.  \n",
    "뿐만 아니라 JSON 데이터를 파싱하면 바로 사용할 수 있는 자바스크립트 객체가 된다.  \n",
    "이는 XML과 극명하게 비교되는 부분이다.  \n",
    "XML을 파싱하여 DOM 문서를 만들고 다시 거기에서 데이터를 추출하는 작업은 자바스크립트 개발자에게는 다소 번거로운 일이다.  \n",
    "```javascript\n",
    "// XML 같이 DOM 구조에 데이터 접근 시\n",
    "document.getElementsByTagName(\"book\")[2].getAttribute(\"tile\");\n",
    "\n",
    "// JSON 데이터 접근 시\n",
    "books[2].title\n",
    "```\n",
    "\n",
    "### 20.2.1 JSON 객체  \n",
    "\n",
    "JSON 객체 에는 stringfy()와 parse() 두 가지 메서드가 있다.  \n",
    "각각 자바스크립트 객체를 JSON 문자열로 직렬화하며, JSON을 파싱하여 네이티브 자바스크립트 값으로 바꾼다.  "
   ]
  },
  {
   "cell_type": "code",
   "execution_count": 9,
   "metadata": {},
   "outputs": [
    {
     "name": "stdout",
     "output_type": "stream",
     "text": [
      "jsonText = {\"title\":\"정세훈 백과사전\",\"authors\":[\"정세훈\"],\"edition\":3,\"year\":2011}\n",
      "bookCopy = [object Object]\n"
     ]
    }
   ],
   "source": [
    "var book = {\n",
    "    title: \"정세훈 백과사전\",\n",
    "    authors: [\n",
    "        \"정세훈\"\n",
    "    ],\n",
    "    edition: 3,\n",
    "    year: 2011\n",
    "};\n",
    "\n",
    "var jsonText = JSON.stringify(book);\n",
    "console.log(`jsonText = ${jsonText}`);\n",
    "\n",
    "var bookCopy = JSON.parse(jsonText);\n",
    "console.log(`bookCopy = ${bookCopy}`);"
   ]
  },
  {
   "cell_type": "markdown",
   "metadata": {},
   "source": [
    "### 20.2.2 직렬화 옵션  \n",
    "\n",
    "JSON.stringify() 메서드는 직렬화할 객체 외에도 두 가지 매개변수를 더 받을 수 있다.  \n",
    "첫 번째 매개변수는 필터이며 배열이나 함수를 쓸 수 있다.  \n",
    "두 번째 매개변수는 JSON 문자열의 들여쓰기를 조절한다. "
   ]
  },
  {
   "cell_type": "code",
   "execution_count": 5,
   "metadata": {},
   "outputs": [
    {
     "name": "stdout",
     "output_type": "stream",
     "text": [
      "jsonText = {\"title\":\"정세훈 백과사전\",\"edition\":3}\n"
     ]
    }
   ],
   "source": [
    "// 배열 예제\n",
    "var book = {\n",
    "    title: \"정세훈 백과사전\",\n",
    "    authors: [\n",
    "        \"정세훈\"\n",
    "    ],\n",
    "    edition: 3,\n",
    "    year: 2011\n",
    "};\n",
    "\n",
    "var jsonText = JSON.stringify(book, [\"title\", \"edition\"]);\n",
    "\n",
    "console.log(`jsonText = ${jsonText}`);"
   ]
  },
  {
   "cell_type": "code",
   "execution_count": 13,
   "metadata": {
    "scrolled": false
   },
   "outputs": [
    {
     "name": "stdout",
     "output_type": "stream",
     "text": [
      "jsonText = {\"title\":\"정세훈 백과사전\",\"authors\":\"정세훈,하유리,최재현\",\"edition\":3,\"year\":5000}\n"
     ]
    }
   ],
   "source": [
    "// 함수 예제\n",
    "var book = {\n",
    "    title: \"정세훈 백과사전\",\n",
    "    authors: [\n",
    "        \"정세훈\",\n",
    "        \"하유리\",\n",
    "        \"최재현\"\n",
    "    ],\n",
    "    edition: 3,\n",
    "    year: 2011\n",
    "};\n",
    "\n",
    "var jsonText = JSON.stringify(book, function(key, value) {\n",
    "    switch(key) {\n",
    "        case \"authors\":\n",
    "            return value.join(\",\")\n",
    "        case \"year\":\n",
    "            return 5000;\n",
    "        default: \n",
    "            return value;\n",
    "    }\n",
    "});\n",
    "\n",
    "console.log(`jsonText = ${jsonText}`);"
   ]
  },
  {
   "cell_type": "code",
   "execution_count": 22,
   "metadata": {},
   "outputs": [
    {
     "name": "stdout",
     "output_type": "stream",
     "text": [
      "jsonText = {\n",
      "    \"title\": \"정세훈 백과사전\",\n",
      "    \"authors\": [\n",
      "        \"정세훈\",\n",
      "        \"하유리\",\n",
      "        \"최재현\"\n",
      "    ],\n",
      "    \"edition\": 3,\n",
      "    \"year\": 2011\n",
      "}\n"
     ]
    }
   ],
   "source": [
    "// 문자열 들여쓰기\n",
    "var book = {\n",
    "    title: \"정세훈 백과사전\",\n",
    "    authors: [\n",
    "        \"정세훈\",\n",
    "        \"하유리\",\n",
    "        \"최재현\"\n",
    "    ],\n",
    "    edition: 3,\n",
    "    year: 2011\n",
    "};\n",
    "\n",
    "var jsonText = JSON.stringify(book, null, 4);\n",
    "console.log(`jsonText = ${jsonText}`);"
   ]
  },
  {
   "cell_type": "code",
   "execution_count": 17,
   "metadata": {
    "scrolled": true
   },
   "outputs": [
    {
     "name": "stdout",
     "output_type": "stream",
     "text": [
      "jsonText = {\n",
      " - -\"title\": \"정세훈 백과사전\",\n",
      " - -\"authors\": [\n",
      " - - - -\"정세훈\",\n",
      " - - - -\"하유리\",\n",
      " - - - -\"최재현\"\n",
      " - -],\n",
      " - -\"edition\": 3,\n",
      " - -\"year\": 2011\n",
      "}\n"
     ]
    }
   ],
   "source": [
    "// 다른 문자열로 변경하기\n",
    "var book = {\n",
    "    title: \"정세훈 백과사전\",\n",
    "    authors: [\n",
    "        \"정세훈\",\n",
    "        \"하유리\",\n",
    "        \"최재현\"\n",
    "    ],\n",
    "    edition: 3,\n",
    "    year: 2011\n",
    "};\n",
    "\n",
    "var jsonText = JSON.stringify(book, null, \" - -\");\n",
    "console.log(`jsonText = ${jsonText}`);"
   ]
  },
  {
   "cell_type": "markdown",
   "metadata": {},
   "source": [
    "이따금은 JSON 객체를 직렬화할 때 JSON.stringify()가 제공하는 기능 이상이 필요할 때도 있다.  \n",
    "이럴 때는 객체에 toJSON() 메서드를 추가해서 올바른 JSON 표현을 반환하도록 한다.  \n",
    "\n",
    "- toJSON() 메서드가 있으면 호출하여 그 값을 사용한다.  \n",
    "- 두 번째 매개변수가 있다면 필터를 적용한다. 필터 함수에 전달되는 값은 1단계에서 반환되는 값이다.  \n",
    "- 2단계에서 반환한 각 값을 적절히 직렬화 한다.  \n",
    "- 세 번째 매개변수가 있으면 그에 다라 형식을 적절히 조절한다.  "
   ]
  },
  {
   "cell_type": "code",
   "execution_count": 18,
   "metadata": {},
   "outputs": [
    {
     "name": "stdout",
     "output_type": "stream",
     "text": [
      "jsonText = \"정세훈 백과사전\"\n"
     ]
    }
   ],
   "source": [
    "var book = {\n",
    "    title: \"정세훈 백과사전\",\n",
    "    authors: [\n",
    "        \"정세훈\",\n",
    "        \"하유리\",\n",
    "        \"최재현\"\n",
    "    ],\n",
    "    edition: 3,\n",
    "    year: 2011,\n",
    "    toJSON: function () {\n",
    "        return this.title;\n",
    "    }\n",
    "};\n",
    "\n",
    "var jsonText = JSON.stringify(book);\n",
    "console.log(`jsonText = ${jsonText}`);"
   ]
  },
  {
   "cell_type": "markdown",
   "metadata": {},
   "source": [
    "### 20.2.3 파싱 옵션  \n",
    "\n",
    "JSON.parse() 메서드 역시 key-value 쌍에서 호출될 콜백 함수를 추가적인 매개변수로 받는다.  \n",
    "이 함수는 JSON.stringify()에서 사용하는 'replacer(필터)' 함수와 구분하기 위해 'reviver' 함수라고 부르지만 형식은 정확히 같다.  "
   ]
  },
  {
   "cell_type": "code",
   "execution_count": 20,
   "metadata": {
    "scrolled": true
   },
   "outputs": [
    {
     "name": "stdout",
     "output_type": "stream",
     "text": [
      "bookCopy = 1991\n"
     ]
    }
   ],
   "source": [
    "var book = {\n",
    "    title: \"정세훈 백과사전\",\n",
    "    authors: [\n",
    "        \"정세훈\",\n",
    "        \"하유리\",\n",
    "        \"최재현\"\n",
    "    ],\n",
    "    edition: 3,\n",
    "    year: 2011,\n",
    "    releaseDate: new Date(1991, 08, 31)\n",
    "};\n",
    "\n",
    "\n",
    "var jsonText = JSON.stringify(book);\n",
    "\n",
    "var bookCopy = JSON.parse(jsonText, function(key, value) {\n",
    "    if (key === \"releaseDate\") {\n",
    "        return new Date(value);\n",
    "    } else {\n",
    "        return value;\n",
    "    }\n",
    "});\n",
    "\n",
    "\n",
    "console.log(`bookCopy = ${bookCopy.releaseDate.getFullYear()}`);"
   ]
  },
  {
   "cell_type": "markdown",
   "metadata": {},
   "source": [
    "## 20.3 요약  \n",
    "\n",
    "JSON은 복잡한 데이터 구조를 쉽게 표현하도록 디자인된 경량화된 데이터 형식이다.  \n",
    "형식은 자바스크립트 문법의 부분집합을 이용하여 객체, 배열, 문자열, 숫자, 불리언, null을 표현한다.  \n",
    "XML로도 같은 일을 할 수 있지만 JSON이 더 간결하며 자바스크립트 지원도 좋다.  \n",
    "\n",
    "ECMASCRIPT 5는 객체를 JSON 형식으로 직렬화하고 JSON 데이터를 자바스크립트 객체로 파싱하는 네이티브 JSON 객체를 정의했다.  \n",
    "이러한 조작은 각각 JSON.stringify(), JSON.parse() 메서드에서 이루어진다.  "
   ]
  }
 ],
 "metadata": {
  "kernelspec": {
   "display_name": "Javascript (Node.js)",
   "language": "javascript",
   "name": "javascript"
  },
  "language_info": {
   "file_extension": ".js",
   "mimetype": "application/javascript",
   "name": "javascript",
   "version": "8.9.4"
  }
 },
 "nbformat": 4,
 "nbformat_minor": 2
}

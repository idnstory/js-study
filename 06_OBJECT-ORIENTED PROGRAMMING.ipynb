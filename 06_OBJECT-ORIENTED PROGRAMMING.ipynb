{
 "cells": [
  {
   "cell_type": "markdown",
   "metadata": {},
   "source": [
    "# 6장 객체 지향 프로그래밍\n",
    "* 일반적으로 클래스를 통해 같은 프로퍼티와 메서드를 가지는 객체를 여러 개 만드는 특징\n",
    "* ECMAScript에는 클래스 개념이 없으며, ECMAScript의 객체는 다른 클래스 기반 언어와 다르다\n",
    "* 객체\n",
    "    * \"프로퍼티의 순서 없는 컬렉션이며 각 프로퍼티는 원시값이나 객체, 함수를 포함한다\"\n",
    "    * 특별한 순서가 없는 값의 배열\n",
    "    * 해시 테이블이라고 생각하면 이해가 쉽다.\n",
    "* 모든 객체는 참조 타입을 바탕으로 생성\n",
    "\n",
    "## 6.1 객체에 대한 이해"
   ]
  },
  {
   "cell_type": "code",
   "execution_count": null,
   "metadata": {},
   "outputs": [],
   "source": [
    "// 가장 단순히 객체를 만드는 방법\n",
    "var person = new Object();\n",
    "person.name = 'jason';\n",
    "person.age = 38;\n",
    "person.job = 'Software Engineer';\n",
    "\n",
    "person.sayName = function() {\n",
    "    console.log(this.name);\n",
    "}"
   ]
  },
  {
   "cell_type": "code",
   "execution_count": null,
   "metadata": {},
   "outputs": [],
   "source": [
    "// 객체 리터럴 표기법\n",
    "var person = {\n",
    "    name: 'jason',\n",
    "    age: 38,\n",
    "    job: 'Software Engineer',\n",
    "    \n",
    "    sayName: function() {\n",
    "        console.log(this.name);\n",
    "    }\n",
    "}"
   ]
  },
  {
   "cell_type": "markdown",
   "metadata": {},
   "source": [
    "### 6.1.1 프로퍼티 타입\n",
    "* 프로퍼티의 특징을 내부적으로만 유효한 속성에 따라 설명\n",
    "    * [[Enumerable]]처럼 속성 이름을 대괄호로 감싸서 내부 속성임을 나타냄\n",
    "* 프로퍼티에는 데이터 프로퍼티와 접근자 프로퍼티 두 가지 타입이 있음\n",
    "* 데이터 프로퍼티\n",
    "    * 4가지 속성\n",
    "        * [[Configurable]]\n",
    "            * 해당 프로퍼티가 delete를 통해 삭제하거나, 프로퍼티의 속성을 바꾸거나, 접근자 프로퍼티로 변환 할 수 있음을 나타냄\n",
    "            * 기본값 true\n",
    "        * [[Enumerable]]\n",
    "            * for-in 루프에서 해당 프로퍼티를 반환함\n",
    "            * 기본값 true\n",
    "        * [[Writable]]\n",
    "            * 프로퍼티의 값을 바꿀 수 있음\n",
    "            * 기본값 true\n",
    "        * [[Value]]\n",
    "            * 프로퍼티의 실제 데이터값을 포함\n",
    "            * 프로퍼티의 값을 읽는 위치이며 새로운 값을 쓰는 위치\n",
    "            * 기본값 undefined"
   ]
  },
  {
   "cell_type": "code",
   "execution_count": null,
   "metadata": {},
   "outputs": [],
   "source": [
    "var person = {\n",
    "    name: 'jason'\n",
    "}\n",
    "\n",
    "// [[Value]] 속성이 'jason'으로 지정되며 값이 바뀐다면 모두 이 위치에 저장된다는 뜻"
   ]
  },
  {
   "cell_type": "markdown",
   "metadata": {},
   "source": [
    "* 기본 프로퍼티 속성을 바꾸려면 반드시 Object.defineProperty() 메서드를 사용\n",
    "    * 프로퍼티를 추가하거나 수정할 객체, 프로퍼티 이름, 서술자(descriptor) 객체 세가지를 매개변수로 받음\n",
    "    \n",
    "* [Object.defineProperty()](https://developer.mozilla.org/ko/docs/Web/JavaScript/Reference/Global_Objects/Object/defineProperty)\n"
   ]
  },
  {
   "cell_type": "code",
   "execution_count": null,
   "metadata": {},
   "outputs": [],
   "source": [
    "var person = {};\n",
    "Object.defineProperty(person, 'name', {\n",
    "    writable: false,\n",
    "    value: 'jason'\n",
    "});\n",
    "\n",
    "console.log(person.name);"
   ]
  },
  {
   "cell_type": "code",
   "execution_count": null,
   "metadata": {},
   "outputs": [],
   "source": [
    "person.name = 'camel';\n",
    "console.log(person.name);\n",
    "\n",
    "// 스트릭트 모드가 아닐 때는 무시, 스트릭트 모드에서는 에러 발생"
   ]
  },
  {
   "cell_type": "code",
   "execution_count": null,
   "metadata": {},
   "outputs": [],
   "source": [
    "// [[configurable]] 속성이 false 프로퍼티\n",
    "var person = {};\n",
    "Object.defineProperty(person, 'name', {\n",
    "    configuratble: false,\n",
    "    value: 'jason'\n",
    "})\n",
    "\n",
    "console.log(person.name);\n",
    "person.name = 'camel';\n",
    "console.log(person.name);\n",
    "\n",
    "// 해당 프로퍼티를 객체에서 변경할 수 없고, 제거할 수 없음."
   ]
  },
  {
   "cell_type": "code",
   "execution_count": null,
   "metadata": {},
   "outputs": [],
   "source": [
    "var person = {};\n",
    "\n",
    "Object.defineProperty(person, 'name', {\n",
    "    configuratble: false,\n",
    "    value: 'jason'\n",
    "})\n",
    "\n",
    "\n",
    "Object.defineProperty(person, 'name', {\n",
    "    configurable: true,\n",
    "    value: 'camel'\n",
    "});\n",
    "\n",
    "console.log(person.name);"
   ]
  },
  {
   "cell_type": "markdown",
   "metadata": {},
   "source": [
    "* 같은 프로퍼티에서 Object.defineProperty()를 여러 번 호출 할 수는 있지만, 일단 configurable을 false 로 지정하면 제한이 생김\n",
    "* configurable, enumerable, writable 의 값을 따로 명시하지 않는다면 기본 값은 false\n",
    "---\n",
    "* 접근자 프로퍼티\n",
    "    * 데이터 값이 들어 있지 않고, 대신 getter함수와 setter함수로 구성(둘 모두 필요한 건 아님)\n",
    "    * 접근자 프로퍼티를 읽을 때는 getter 함수가 호출되며 유효한 값을 반환할 책임은 이 함수에 있다\n",
    "    * 쓰기 작업을 할 때는 새로운 값과 함께 함수를 호출하며 이 함수가 데이터를 어떻게 사용할지 결정\n",
    "    * 4가지 속성\n",
    "        * [[Configurable]]\n",
    "            * 해당 프로퍼티가 delete 를 통해 삭제하거나 프로퍼티의 속성을 바꿀 수 있거나, 데이터 프로퍼티로 바꿀 수 있음\n",
    "            * 기본값 true\n",
    "        * [[Enumerable]]\n",
    "            * for-in 루프에서 해당 프로퍼티를 반환함\n",
    "            * 기본값 true\n",
    "        * [[Get]]\n",
    "            * 프로퍼티를 읽을 때 호출할 함수\n",
    "            * 기본값 undefined\n",
    "        * [[Set]]\n",
    "            * 프로퍼티를 바꿀 때 호출할 함수\n",
    "            * 기본값 undefined\n",
    "    * 기본 프로퍼티 속성을 바꾸려면 반드시 Object.defineProperty() 메서드를 사용"
   ]
  },
  {
   "cell_type": "code",
   "execution_count": null,
   "metadata": {},
   "outputs": [],
   "source": [
    "var book = {\n",
    "    _year: 2020,\n",
    "    edition: 1\n",
    "};\n",
    "\n",
    "Object.defineProperty(book, 'year', {\n",
    "    get: function() {\n",
    "        return this._year;\n",
    "    },\n",
    "    set: function(newValue) {\n",
    "        if (newValue > 2020) {\n",
    "            this._year = newValue;\n",
    "            this.edition += newValue - 2020;\n",
    "        }\n",
    "    }\n",
    "});\n",
    "\n",
    "\n",
    "console.log(book);\n",
    "book.year = 2025;\n",
    "console.log(book);"
   ]
  },
  {
   "cell_type": "markdown",
   "metadata": {},
   "source": [
    "* \\_year와 edition 두 기본 프로퍼티를 가진 객체\n",
    "    * \\_year 의 밑줄은 객체의 메서드를 통해서만 접근할 것이고 객체 외부에서는 접근하지 않겠다는 의도를 나타낼 때 쓰는 표기법\n",
    "    * year 프로퍼티는 접근자 프로퍼티로 정의\n",
    "* 접근자 프로퍼티는 일반적으로 이런 경우, 즉 프로퍼티의 값을 바꿨을 때 해당 프로퍼티만 바뀌는게 아니라 부수적인 절차가 필요한 경우에 사용\n",
    "* getter와 setter는 꼭 지정해야 하는 것은 아니다.\n",
    "* getter만 지정할 경우 해당 프로퍼티는 읽기 전용이 되고, 수정하려는 시도는 모두 무시됨\n",
    "    * 스트릭트 모드에서는 에러 발생"
   ]
  },
  {
   "cell_type": "code",
   "execution_count": null,
   "metadata": {},
   "outputs": [],
   "source": [
    "// 두가지 비표준 메서드\n",
    "// 옛날 브라우저에서 사용\n",
    "var book = {\n",
    "    _year: 2020,\n",
    "    edition: 1\n",
    "};\n",
    "\n",
    "book.__defineGetter__('year', function() {\n",
    "    return this._year;\n",
    "});\n",
    "\n",
    "book.__defineSetter__('year', function(newValue) {\n",
    "    if (newValue > 2020) {\n",
    "        this._year = newValue;\n",
    "        this.edition += newValue - 2020;\n",
    "    }\n",
    "});\n",
    "\n",
    "book.year = 2021;\n",
    "console.log(book);"
   ]
  },
  {
   "cell_type": "markdown",
   "metadata": {},
   "source": [
    "### 6.1.2 다중 프로퍼티 정의\n",
    "* Object.defineProperties()"
   ]
  },
  {
   "cell_type": "code",
   "execution_count": null,
   "metadata": {},
   "outputs": [],
   "source": [
    "var book = {};\n",
    "\n",
    "Object.defineProperties(book, {\n",
    "    _year: {\n",
    "        value: 2020,\n",
    "    },\n",
    "    \n",
    "    edition: {\n",
    "        value: 1,\n",
    "    },\n",
    "    \n",
    "    year: {\n",
    "        get: function() {\n",
    "            return this._year;\n",
    "        },\n",
    "        set: function(newValue) {\n",
    "            if (newValue > 2020) {\n",
    "                this._year = newValue;\n",
    "                this.edition += newValue - 2020;\n",
    "            }\n",
    "        }\n",
    "    }\n",
    "});\n",
    "\n",
    "book.year = 2023;\n",
    "console.log(book.year);\n",
    "console.log(book.edition);\n"
   ]
  },
  {
   "cell_type": "markdown",
   "metadata": {},
   "source": [
    "### 6.1.3 프로퍼티 속성 읽기\n",
    "* Object.getOwnPropertyDescriptor()\n",
    "    * 매개변수\n",
    "        * 읽어올 프로퍼티가 포함된 객체\n",
    "        * 서술자를 가져올 프로퍼티 이름\n",
    "    * 반환값\n",
    "        * 해당 프로퍼티의 성격에 따라 다른 객체 반환"
   ]
  },
  {
   "cell_type": "code",
   "execution_count": null,
   "metadata": {},
   "outputs": [],
   "source": [
    "var descriptor = Object.getOwnPropertyDescriptor(book, '_year');\n",
    "console.log(descriptor);\n",
    "console.log(descriptor.value);  // 결과값?\n",
    "console.log(descriptor.configurable);  // 결과값?\n",
    "console.log(typeof descriptor.get);  // 결과값?"
   ]
  },
  {
   "cell_type": "code",
   "execution_count": null,
   "metadata": {},
   "outputs": [],
   "source": [
    "var descriptor = Object.getOwnPropertyDescriptor(book, 'year');\n",
    "console.log(descriptor);\n",
    "console.log(descriptor.value);  // 결과값?\n",
    "console.log(descriptor.enumerable);  // 결과값?\n",
    "console.log(typeof descriptor.get);  // 결과값?"
   ]
  },
  {
   "cell_type": "markdown",
   "metadata": {},
   "source": [
    "## 6.2 객체 생성\n",
    "* Object 생성자를 이용하거나, 객체 리터럴을 이용해 객체를 생성하면 객체 하나를 생성할 때는 편하지만, 분명한 단점이 있다.\n",
    "* 같은 인터페이스를 가진 객체를 여러개 만들 때, 중복된 코드를 매우 많이 써야 한다.\n",
    "\n",
    "### 6.2.1 팩터리 패턴\n",
    "* 특정 객체를 생성하는 과정을 추상화한 디자인패턴\n",
    "\n",
    "\n"
   ]
  },
  {
   "cell_type": "code",
   "execution_count": null,
   "metadata": {},
   "outputs": [],
   "source": [
    "function createPerson(name, age, job) {\n",
    "    var o = new Object();\n",
    "    o.name = name;\n",
    "    o.age = age;\n",
    "    o.job = job;\n",
    "    o.sayName = function() {\n",
    "        console.log(this.name);\n",
    "    }\n",
    "    \n",
    "    return o;\n",
    "}"
   ]
  },
  {
   "cell_type": "markdown",
   "metadata": {},
   "source": [
    "* Person객체를 만드는 데 필요한 정보를 매개변수로 받아 객체를 생성\n",
    "* 코드 중복 문제 해결\n",
    "* 생성한 객체가 어떤 타입인지 알 수 없다는 문제"
   ]
  },
  {
   "cell_type": "code",
   "execution_count": null,
   "metadata": {},
   "outputs": [],
   "source": [
    "var person = createPerson('jason', 38, 'developer');\n",
    "console.log(typeof person);\n",
    "console.log(person.constructor);"
   ]
  },
  {
   "cell_type": "markdown",
   "metadata": {},
   "source": [
    "### 6.2.2 생성자 패턴\n",
    "* 커스텀 생성자를 만들어서 원하는 타입의 객체에 필요한 프로퍼티와 메서드를 정의\n"
   ]
  },
  {
   "cell_type": "code",
   "execution_count": null,
   "metadata": {},
   "outputs": [],
   "source": [
    "function Person(name, age, job) {\n",
    "    this.name = name;\n",
    "    this.age = age;\n",
    "    this.job = job;\n",
    "    this.sayName = function() {\n",
    "        console.log(this.name);\n",
    "    }\n",
    "}\n",
    "\n",
    "var person1 = new Person('jason', 38, 'software engineer');\n",
    "var person2 = new Person('camel', 30, 'software engineer');\n",
    "\n",
    "console.log(typeof person1);\n",
    "console.log(person1.constructor);\n",
    "console.log(Person.prototype.isPrototypeOf(person1));"
   ]
  },
  {
   "cell_type": "markdown",
   "metadata": {},
   "source": [
    "* Person()함수가 팩터리 함수 createPerson()의 역할을 대신\n",
    "* 다음 예외를 빼면 createPerson()코드와 같음\n",
    "    * 명시적으로 객체를 생성하지 않음\n",
    "    * 프로퍼티와 메서드는 this 객체에 직접적으로 할당\n",
    "    * return 문이 없음\n",
    "* 인스턴스를 만들 때 new 연산자를 사용\n",
    "    * 객체 생성\n",
    "    * 생성자의 this값에 새 객체 할당\n",
    "    * 생성자 내부 코드 실행\n",
    "    * 세 객체 반환"
   ]
  },
  {
   "cell_type": "code",
   "execution_count": null,
   "metadata": {},
   "outputs": [],
   "source": [
    "console.log(person1.constructor == Person);\n",
    "console.log(person2.constructor == Person);"
   ]
  },
  {
   "cell_type": "markdown",
   "metadata": {},
   "source": [
    "* constructor 프로퍼티는 원래 객체의 타입을 파악하려는 의도\n",
    "* 하지만 타입을 알아내는 목적으로는 instanceof 연산자가 더 안전한 것으로 간주"
   ]
  },
  {
   "cell_type": "code",
   "execution_count": null,
   "metadata": {},
   "outputs": [],
   "source": [
    "console.log(person1 instanceof Object);\n",
    "console.log(person1 instanceof Person);\n",
    "console.log(person2 instanceof Object);\n",
    "console.log(person2 instanceof Person);"
   ]
  },
  {
   "cell_type": "markdown",
   "metadata": {},
   "source": [
    "* 생성자를 직접 만들면 인스턴스 타입을 쉽게 식별할 수 있음\n",
    "---\n",
    "#### 함수로서의 생성자\n",
    "* 생성자 함수와 다른 함수의 차이는 어떻게 호출하느냐\n",
    "* 생성자는 결국 함수일 뿐이며, new 연산자와 함께 호출\n",
    "* 예를 들어 이전 예제의 Person()함수는 다음 중 어떤 방법으로 호출 가능"
   ]
  },
  {
   "cell_type": "code",
   "execution_count": null,
   "metadata": {},
   "outputs": [],
   "source": [
    "// 생성자로 사용\n",
    "var person = new Person('jason', 38, 'software engineer');\n",
    "person.sayName();\n",
    "\n",
    "// 함수로 호출\n",
    "Person('camel', 38, 'software engineer');  // 윈도우에 추가\n",
    "// window.sayName();\n",
    "\n",
    "// 다른 객체의 스코프에서 호출\n",
    "var o = new Object();\n",
    "Person.call(o, 'camel', 38, 'software engineer');\n",
    "o.sayName();"
   ]
  },
  {
   "cell_type": "markdown",
   "metadata": {},
   "source": [
    "* call() or apply()를 사용해서 Person() 함수를 다른 객체의 스코프에서 호출 할 수 있음\n",
    "* 함수의 this 값은 객체 o가 되며, 객체 o는 프로퍼티전부와 sayName()메서드를 할당 받음.\n",
    "---\n",
    "#### 생성자의 문제점\n",
    "* 인스턴스마다 메서드가 생성"
   ]
  },
  {
   "cell_type": "code",
   "execution_count": null,
   "metadata": {},
   "outputs": [],
   "source": [
    "function Person(name, age, job) {\n",
    "    this.name = name;\n",
    "    this.age = age;\n",
    "    this.job = job;\n",
    "    this.sayName = new function() {  // 논리적으로 동등\n",
    "        console.log(this.name);\n",
    "    }\n",
    "}"
   ]
  },
  {
   "cell_type": "code",
   "execution_count": null,
   "metadata": {},
   "outputs": [],
   "source": [
    "console.log(person1.sayName == person2.sayName);"
   ]
  },
  {
   "cell_type": "markdown",
   "metadata": {},
   "source": [
    "* 똑같은 일을 하는 function 인스턴스 두 개가 따로 존재한다 점은 비상식\n",
    "* 다음과 같이 함수 정의를 생성자 밖으로 내보내면 이런 제한을 우회할 수 있음"
   ]
  },
  {
   "cell_type": "code",
   "execution_count": null,
   "metadata": {},
   "outputs": [],
   "source": [
    "function Person(name, age, job) {\n",
    "    this.name = name;\n",
    "    this.age = age;\n",
    "    this.job = job;\n",
    "    this.sayName = sayName;\n",
    "}\n",
    "\n",
    "function sayName() {\n",
    "    console.log(this.name);\n",
    "}\n",
    "\n",
    "var person1 = new Person('jason', 38, 'software engineer');\n",
    "var person2 = new Person('camel', 30, 'software engineer');\n",
    "console.log(person1.sayName == person2.sayName);"
   ]
  },
  {
   "cell_type": "markdown",
   "metadata": {},
   "source": [
    "* 함수 중복 문제는 막을 수 있지만, 일부 객체에서 쓰이는 함수를 전역에 놓음으로서 전역 스코프를 어지럽힘"
   ]
  },
  {
   "cell_type": "markdown",
   "metadata": {},
   "source": [
    "### 6.2.3 프로토타입 패턴\n",
    "* 모든 함수는 prototype 프로퍼티를 가짐.\n",
    "* 이 프로퍼티는 해당 참조 타입의 인스턴스가 가져야 할 프로퍼티와 메서드를 담고 있는 개체"
   ]
  },
  {
   "cell_type": "code",
   "execution_count": null,
   "metadata": {},
   "outputs": [],
   "source": [
    "function Person() {\n",
    "    \n",
    "}\n",
    "\n",
    "Person.prototype.name = 'jason';\n",
    "Person.prototype.age = 38;\n",
    "Person.prototype.job = 'developer';\n",
    "Person.prototype.sayName = function() {\n",
    "    console.log(this.name);\n",
    "};\n",
    "\n",
    "var person1 = new Person();\n",
    "person1.sayName();\n",
    "\n",
    "var person2 = new Person();\n",
    "person2.sayName();\n",
    "\n",
    "console.log(person1.sayName == person2.sayName);"
   ]
  },
  {
   "cell_type": "markdown",
   "metadata": {},
   "source": [
    "#### 프로토타입은 어떻게 동작하는가\n",
    "* 기본적으로 모든 프로토타입은 자동으로 constructor 프로퍼티를 가짐\n",
    "* 이 프로퍼티는 해당 프로토타입이 프로퍼티로서 소속된 함수를 가리킴\n",
    "* 이전 예제에서 Person.prototype.constructor은 Person을 가리킴\n",
    "\n",
    "<img src=\"img/6-1.png\" width=\"600px\">\n",
    "\n",
    "* [[prototype]]은 구현 환경에 따라 접근 불가능할 수도 있지만 객체 사이에 프로토타입이 존재하는지 isPrototypeOf() 메서드를 통해 알 수있음"
   ]
  },
  {
   "cell_type": "code",
   "execution_count": null,
   "metadata": {},
   "outputs": [],
   "source": [
    "console.log(Person.prototype.isPrototypeOf(person1));\n",
    "console.log(Person.prototype.isPrototypeOf(person2));"
   ]
  },
  {
   "cell_type": "markdown",
   "metadata": {},
   "source": [
    "* ECMAScript 5판에서 [[prototype]]의 값을 반환하는 Object.getPrototypeOf() 메서드 추가"
   ]
  },
  {
   "cell_type": "code",
   "execution_count": null,
   "metadata": {},
   "outputs": [],
   "source": [
    "console.log(Object.getPrototypeOf(person1) == Person.prototype);\n",
    "console.log(Object.getPrototypeOf(person1).name);"
   ]
  },
  {
   "cell_type": "markdown",
   "metadata": {},
   "source": [
    "* 객체 인스턴스에서 프로토타입에 있는 값을 읽을 수는 있지만 수정은 불가\n",
    "* 프로토타입 프로퍼티와 같은 이름의 프로퍼티를 인스턴스에 추가하면, 해당 프로퍼티는 인스턴스에 추가 되며 프로토타입까지 올라가지 않음"
   ]
  },
  {
   "cell_type": "code",
   "execution_count": null,
   "metadata": {},
   "outputs": [],
   "source": [
    "function Person() {\n",
    "    \n",
    "}\n",
    "\n",
    "Person.prototype.name = 'jason';\n",
    "Person.prototype.age = 38;\n",
    "Person.prototype.job = 'developer';\n",
    "Person.prototype.sayName = function() {\n",
    "    console.log(this.name);\n",
    "};\n",
    "\n",
    "var person1 = new Person();\n",
    "var person2 = new Person();\n",
    "\n",
    "person1.name = 'yuri';\n",
    "console.log(person1.name);\n",
    "console.log(person2.name);"
   ]
  },
  {
   "cell_type": "markdown",
   "metadata": {},
   "source": [
    "* person1.name 에 접근하면 인스턴스에서 name이라는 프로퍼티 검색, 프로퍼티가 존재하므로 프로토타입까지 검색하지 않음\n",
    "* person2.name 에 접근하면 인스턴스에서 찾지 못해, 프로토타입을 검색해 name 프로퍼티를 찾음\n",
    "* 객체 인스턴스에 프로퍼티를 추가하면 해당 프로퍼티는 프로토타입에 존재하는 같은 이름의 프로퍼티를 '가림'\n",
    "* 프로토타입에 존재하는 같은 이름의 프로퍼티에 대한 접근은 차단.\n",
    "* delete 연산자는 인스턴스 프로퍼티를 완전히 삭제하며 다음과 같이 prototype 프로퍼티에 다시 접근 할 수 있음"
   ]
  },
  {
   "cell_type": "code",
   "execution_count": null,
   "metadata": {},
   "outputs": [],
   "source": [
    "function Person() {\n",
    "    \n",
    "}\n",
    "\n",
    "Person.prototype.name = 'jason';\n",
    "Person.prototype.age = 38;\n",
    "Person.prototype.job = 'developer';\n",
    "Person.prototype.sayName = function() {\n",
    "    console.log(this.name);\n",
    "};\n",
    "\n",
    "var person1 = new Person();\n",
    "var person2 = new Person();\n",
    "\n",
    "person1.name = 'yuri';\n",
    "console.log(person1.name);\n",
    "console.log(person2.name);\n",
    "\n",
    "delete person1.name;\n",
    "console.log(person1.name);"
   ]
  },
  {
   "cell_type": "markdown",
   "metadata": {},
   "source": [
    "* hasOwnProperty() 메서드는 프로퍼티가 인스턴스에 존재하는지 프로토타입에 존재하는지 확인\n",
    "* 인스턴스에 존재할 때만 true 반환"
   ]
  },
  {
   "cell_type": "code",
   "execution_count": null,
   "metadata": {},
   "outputs": [],
   "source": [
    "function Person() {\n",
    "    \n",
    "}\n",
    "\n",
    "Person.prototype.name = 'jason';\n",
    "Person.prototype.age = 38;\n",
    "Person.prototype.job = 'developer';\n",
    "Person.prototype.sayName = function() {\n",
    "    console.log(this.name);\n",
    "};\n",
    "\n",
    "var person1 = new Person();\n",
    "var person2 = new Person();"
   ]
  },
  {
   "cell_type": "code",
   "execution_count": null,
   "metadata": {},
   "outputs": [],
   "source": [
    "console.log(person1.hasOwnProperty('name'));"
   ]
  },
  {
   "cell_type": "code",
   "execution_count": null,
   "metadata": {},
   "outputs": [],
   "source": [
    "person1.name = 'yuri';\n",
    "console.log(person1.name);\n",
    "console.log(person1.hasOwnProperty('name'));"
   ]
  },
  {
   "cell_type": "code",
   "execution_count": null,
   "metadata": {},
   "outputs": [],
   "source": [
    "console.log(person2.name);\n",
    "console.log(person2.hasOwnProperty('name'));"
   ]
  },
  {
   "cell_type": "code",
   "execution_count": null,
   "metadata": {},
   "outputs": [],
   "source": [
    "delete person1.name;\n",
    "console.log(person1.name);\n",
    "console.log(person1.hasOwnProperty('name'));"
   ]
  },
  {
   "cell_type": "markdown",
   "metadata": {},
   "source": [
    "<img src=\"img/6-2.png\" width=\"600px\">\n",
    "\n",
    "#### 프로토타입과 in 연산자\n",
    "* in 연산자에는 두 가지 쓰임이 있음\n",
    "    * 그 자체로 사용\n",
    "        * 주어진 이름의 프로퍼티를 객체에서 접근 할 수 있을 때 true 반환\n",
    "    * for-in 루프에서 사용"
   ]
  },
  {
   "cell_type": "code",
   "execution_count": null,
   "metadata": {},
   "outputs": [],
   "source": [
    "function Person() {\n",
    "    \n",
    "}\n",
    "\n",
    "Person.prototype.name = 'jason';\n",
    "Person.prototype.age = 38;\n",
    "Person.prototype.job = 'developer';\n",
    "Person.prototype.sayName = function() {\n",
    "    console.log(this.name);\n",
    "};\n",
    "\n",
    "var person1 = new Person();\n",
    "var person2 = new Person();"
   ]
  },
  {
   "cell_type": "code",
   "execution_count": null,
   "metadata": {},
   "outputs": [],
   "source": [
    "console.log(person1.hasOwnProperty('name'));\n",
    "console.log('name' in person1);"
   ]
  },
  {
   "cell_type": "code",
   "execution_count": null,
   "metadata": {},
   "outputs": [],
   "source": [
    "person1.name = 'yuri';\n",
    "console.log(person1.name);\n",
    "console.log(person1.hasOwnProperty('name'));\n",
    "console.log('name' in person1);"
   ]
  },
  {
   "cell_type": "code",
   "execution_count": null,
   "metadata": {},
   "outputs": [],
   "source": [
    "console.log(person2.name);\n",
    "console.log(person2.hasOwnProperty('name'));\n",
    "console.log('name' in person2);"
   ]
  },
  {
   "cell_type": "code",
   "execution_count": null,
   "metadata": {},
   "outputs": [],
   "source": [
    "delete person1.name;\n",
    "console.log(person1.name);\n",
    "console.log(person1.hasOwnProperty('name'));\n",
    "console.log('name' in person1);"
   ]
  },
  {
   "cell_type": "markdown",
   "metadata": {},
   "source": [
    "* for-in 루프를 사용할 때에는 개체에서 접근할 수 있고 나열가능한 프로퍼티 반환"
   ]
  },
  {
   "cell_type": "code",
   "execution_count": null,
   "metadata": {},
   "outputs": [],
   "source": [
    "var o = {\n",
    "    toString: function() {\n",
    "        return 'my object';\n",
    "    }\n",
    "}\n",
    "\n",
    "for (var prop in o) {\n",
    "    console.log(prop);\n",
    "    if (prop == 'toString') {\n",
    "      console.log('found toString');\n",
    "    }\n",
    "}"
   ]
  },
  {
   "cell_type": "markdown",
   "metadata": {},
   "source": [
    "* ECMAScript 5판의 Object.keys() 메서드를 통해 객체 인스턴스에서 나열 가능한 프로퍼티의 전체 목록을 얻을 수 있음"
   ]
  },
  {
   "cell_type": "code",
   "execution_count": null,
   "metadata": {},
   "outputs": [],
   "source": [
    "function Person() {\n",
    "    \n",
    "}\n",
    "\n",
    "Person.prototype.name = 'jason';\n",
    "Person.prototype.age = 38;\n",
    "Person.prototype.job = 'developer';\n",
    "Person.prototype.sayName = function() {\n",
    "    console.log(this.name);\n",
    "};\n",
    "\n",
    "var keys = Object.keys(Person.prototype);\n",
    "console.log(keys);"
   ]
  },
  {
   "cell_type": "code",
   "execution_count": null,
   "metadata": {},
   "outputs": [],
   "source": [
    "var p1 = new Person();\n",
    "p1.name = 'rob';\n",
    "p1.age = 31;\n",
    "var p1keys = Object.keys(p1);\n",
    "//var p1keys = Object.keys(Object.getPrototypeOf(p1));\n",
    "console.log(p1keys);"
   ]
  },
  {
   "cell_type": "code",
   "execution_count": null,
   "metadata": {},
   "outputs": [],
   "source": [
    "// 나열 가능 여부와 관계없이 인스턴스 프로퍼티 전체 목록을 얻으려면\n",
    "var keys = Object.getOwnPropertyNames(Person.prototype);\n",
    "console.log(keys);"
   ]
  },
  {
   "cell_type": "markdown",
   "metadata": {},
   "source": [
    "#### 프로토타입의 대체 문법\n",
    "* 이전 예제에는 Person.prototype 을 매 프로퍼티와 메서드마다 기입\n",
    "* 다음과 같이 모든 프로퍼티와 메서드를 담은 객체 리터럴로 프로토타입을 덮어써서 반복을 줄이고 가독성 있게 캡슐화 하는 패턴이 널리 쓰임"
   ]
  },
  {
   "cell_type": "code",
   "execution_count": null,
   "metadata": {},
   "outputs": [],
   "source": [
    "function Person() {\n",
    "    \n",
    "}\n",
    "\n",
    "Person.prototype = {\n",
    "    name: 'jason',\n",
    "    age: 38,\n",
    "    job: 'developer',\n",
    "    sayName: function() {\n",
    "        console.log(this.name);\n",
    "    }\n",
    "}"
   ]
  },
  {
   "cell_type": "markdown",
   "metadata": {},
   "source": [
    "* constructor 프로퍼티가 Person을 가리키지 않는다는 점만 빼면 최종결과는 완전히 같음."
   ]
  },
  {
   "cell_type": "code",
   "execution_count": null,
   "metadata": {},
   "outputs": [],
   "source": [
    "var friend = new Person();\n",
    "console.log(friend instanceof Object);\n",
    "console.log(friend instanceof Person);\n",
    "console.log(friend.constructor == Person);\n",
    "console.log(friend.constructor == Object);"
   ]
  },
  {
   "cell_type": "code",
   "execution_count": null,
   "metadata": {},
   "outputs": [],
   "source": [
    "// constructor 값이 중요하다면 다음과 같이 직접 지정할 수 있음\n",
    "function Person() {\n",
    "    \n",
    "}\n",
    "\n",
    "Person.prototype = {\n",
    "    constructor: Person,\n",
    "    name: 'jason',\n",
    "    age: 38,\n",
    "    job: 'developer',\n",
    "    sayName: function() {\n",
    "        console.log(this.name);\n",
    "    }\n",
    "}"
   ]
  },
  {
   "cell_type": "markdown",
   "metadata": {},
   "source": [
    "* 이런 식으로 생성자를 재설정하면 프로퍼티의 [[Enumerable]] 속성이 true로 지정\n",
    "* 네이티브 constructor 프로퍼티는 기본적으로 나열 불가능한 프로퍼티이므로 다음과 같이 Object.defineProperty()를 쓰는 편이 좋음"
   ]
  },
  {
   "cell_type": "code",
   "execution_count": null,
   "metadata": {},
   "outputs": [],
   "source": [
    "function Person() {\n",
    "    \n",
    "}\n",
    "\n",
    "Person.prototype = {\n",
    "    name: 'jason',\n",
    "    age: 38,\n",
    "    job: 'developer',\n",
    "    sayName: function() {\n",
    "        console.log(this.name);\n",
    "    }\n",
    "}\n",
    "\n",
    "// ECMAScript 5판만 가능\n",
    "Object.defineProperty(Person.prototype, 'constructor', {\n",
    "    enumerable: false,\n",
    "    value: Person\n",
    "})"
   ]
  },
  {
   "cell_type": "markdown",
   "metadata": {},
   "source": [
    "####  프로토타입의 동적 성질\n",
    "* 프로토타입에서 값을 찾는 작업은 런타임 검색이므로 프로토타입이 바뀌면 그 내용이 즉시 인스턴스에서 반영"
   ]
  },
  {
   "cell_type": "code",
   "execution_count": null,
   "metadata": {},
   "outputs": [],
   "source": [
    "var friend = new Person();\n",
    "\n",
    "Person.prototype.sayHi = function() {\n",
    "    console.log('hi');\n",
    "}\n",
    "\n",
    "friend.sayHi();"
   ]
  },
  {
   "cell_type": "code",
   "execution_count": null,
   "metadata": {},
   "outputs": [],
   "source": [
    "// 프로토타입을 다른 객체로 바꾸면 생성자와 원래 프로토타입 사이의 연결이 끊어짐\n",
    "function Person() {\n",
    "}\n",
    "\n",
    "var friend = new Person();\n",
    "\n",
    "Person.prototype = {\n",
    "    name: 'jason',\n",
    "    age: 38,\n",
    "    job: 'developer',\n",
    "    sayName: function() {\n",
    "        console.log(this.name);\n",
    "    }\n",
    "}\n",
    "\n",
    "friend.sayName();"
   ]
  },
  {
   "cell_type": "markdown",
   "metadata": {},
   "source": [
    "<img src=\"img/6-3.png\" width=\"600px\">\n",
    "\n",
    "* 생성자의 프로토타입을 바꾸면 그 이후에 생성한 인스턴스는 새로운 프로토타입을 참조하지만, 그 이전에 생성한 인스턴스는 바꾸기 전의 프로토타입을 참조\n",
    "\n",
    "#### 네이티브 객체 프로토타입\n",
    "* 네이티브 참조 타입(Object, Array, String 등)의 메서드 역시 생성자의 프로토타입에 정의"
   ]
  },
  {
   "cell_type": "code",
   "execution_count": null,
   "metadata": {},
   "outputs": [],
   "source": [
    "console.log(typeof Array.prototype.sort);\n",
    "console.log(typeof String.prototype.substring);"
   ]
  },
  {
   "cell_type": "markdown",
   "metadata": {},
   "source": [
    "* 네이티브 객체의 프로토타입을 통해 기본 메서드를 참조할 수 있고 세 매서드를 정의 할 수 있음"
   ]
  },
  {
   "cell_type": "code",
   "execution_count": null,
   "metadata": {},
   "outputs": [],
   "source": [
    "String.prototype.startsWith = function(text) {\n",
    "    return this.indexOf(text) == 0;\n",
    "}\n",
    "\n",
    "var msg = 'hello world!';\n",
    "console.log(msg.startsWith('hello'));"
   ]
  },
  {
   "cell_type": "markdown",
   "metadata": {},
   "source": [
    "#### 프로토타입의 문제점\n",
    "* 초기화 매개변수를 생성자에 전달할 수 없게 하므로, 모든 인스턴스가 기본적으로 같은 프로퍼티 값을 갖게 됨.\n",
    "* 공유라는 성질이 바로 프로토타입의 주요 문제\n",
    "* 프로퍼티가 참조값을 포함한 경우 문제"
   ]
  },
  {
   "cell_type": "code",
   "execution_count": null,
   "metadata": {},
   "outputs": [],
   "source": [
    "function Person() {\n",
    "    \n",
    "}\n",
    "\n",
    "Person.prototype = {\n",
    "    name: 'jason',\n",
    "    age: 38,\n",
    "    job: 'developer',\n",
    "    friends: ['camel', 'yuri'],\n",
    "    sayName: function() {\n",
    "        console.log(this.name);\n",
    "    }\n",
    "}\n",
    "\n",
    "var person1 = new Person();\n",
    "var person2 = new Person();\n",
    "\n",
    "person1.friends.push('jho lee');\n",
    "\n",
    "console.log(person1.friends);\n",
    "console.log(person2.friends);\n",
    "console.log(person1.friends === person2.friends);"
   ]
  },
  {
   "cell_type": "markdown",
   "metadata": {},
   "source": [
    "### 6.2.4 생성자 패턴과 프로토타입 패턴의 조합\n",
    "* 커스텀 타입을 정의할 때 가장 널리 쓰이는 방법\n",
    "* 생성자 패턴으로 인스턴스 프로퍼티를 정의하고, 프로토타입패턴으로 메서드와 공유 프로퍼티를 정의"
   ]
  },
  {
   "cell_type": "code",
   "execution_count": null,
   "metadata": {},
   "outputs": [],
   "source": [
    "function Person(name, age, job) {\n",
    "    this.name = name;\n",
    "    this.age = age;\n",
    "    this.job = job;\n",
    "    this.friends = ['camel', 'yuri'];\n",
    "}\n",
    "\n",
    "Person.prototype = {\n",
    "    constructor: Person,\n",
    "    sayName: function() {\n",
    "        console.log(this.name);\n",
    "    }\n",
    "}\n",
    "\n",
    "var person1 = new Person('jason', 38, 'developer');\n",
    "var person2 = new Person('jho lee', 31, 'developer');\n",
    "\n",
    "person1.friends.push('van');\n",
    "\n",
    "console.log(person1.friends);\n",
    "console.log(person2.friends);\n",
    "console.log(person1.friends === person2.friends);\n",
    "console.log(person1.sayName === person2.sayName);"
   ]
  },
  {
   "cell_type": "markdown",
   "metadata": {},
   "source": [
    "### 6.2.5 동적 프로토타입 패턴\n",
    "* 다른 객체지향 언어를 사용하던 개발자라면 생성자와 프로토타입의 구분이 혼란스러울 수 있음\n",
    "* 모든 정보를 생성자 내부에 캡슐화하여 혼란을 해결하고, 필요한 경우 프로토타입을 생성자 내부에서 초기화"
   ]
  },
  {
   "cell_type": "code",
   "execution_count": null,
   "metadata": {},
   "outputs": [],
   "source": [
    "function Person(name, age, job) {\n",
    "    // 프로퍼티\n",
    "    this.name = name;\n",
    "    this.age = age;\n",
    "    this.job = job;\n",
    "    this.friends = ['camel', 'yuri'];\n",
    "    \n",
    "    // 메서드\n",
    "    if (typeof this.sayName != 'function') {\n",
    "        Person.prototype.sayName = function() {\n",
    "            console.log(this.name);\n",
    "        }\n",
    "    }\n",
    "}\n",
    "\n",
    "var person1 = new Person('jason', 38, 'developer');\n",
    "person1.sayName();"
   ]
  },
  {
   "cell_type": "markdown",
   "metadata": {},
   "source": [
    "### 6.2.6 기생 생성자 패턴\n",
    "* 보통 다른 패턴이 실패할 때 폴백으로 사용\n",
    "* 일반적인 생성자처럼 보이지만 사실 다른 객체를 생성하고 반환하는 동작을 래퍼 생성자로 감쌈"
   ]
  },
  {
   "cell_type": "code",
   "execution_count": null,
   "metadata": {},
   "outputs": [],
   "source": [
    "function Person(name, age, job) {\n",
    "    var o = new Object();\n",
    "    o.name = name;\n",
    "    o.age = age;\n",
    "    o.job = job;\n",
    "    o.sayName = function() {\n",
    "        console.log(this.name);\n",
    "    };\n",
    "    \n",
    "    return o;\n",
    "}\n",
    "\n",
    "var person1 = new Person('jason', 38, 'developer');\n",
    "person1.sayName();"
   ]
  },
  {
   "cell_type": "markdown",
   "metadata": {},
   "source": [
    "* new 연산자를 써서 함수를 생성자로 호추 하는 점을 제외하면 팩토리패턴과 완전히 같다.\n",
    "* 이 패턴을 쓰면 다른 방법으로는 불가능한 객체 생성자를 만들 수 있다."
   ]
  },
  {
   "cell_type": "code",
   "execution_count": null,
   "metadata": {},
   "outputs": [],
   "source": [
    "function SpecialArray() {\n",
    "    // 배열 생성\n",
    "    var values = new Array();\n",
    "    \n",
    "    // 값 추가\n",
    "    values.push.apply(values, arguments);\n",
    "    \n",
    "    // 메서드 할당\n",
    "    values.toPipedString = function() {\n",
    "        return this.join('|');\n",
    "    }\n",
    "    \n",
    "    return values;\n",
    "}\n",
    "\n",
    "var colors = new SpecialArray('red', 'blue', 'green');\n",
    "console.log(colors.toPipedString());"
   ]
  },
  {
   "cell_type": "markdown",
   "metadata": {},
   "source": [
    "* 반환된 객체와 생성자, 또는 생성자의 프로토타입 사이에 아무 연결고리가 없다.\n",
    "* instanceof 연산자로 이 객체의 타입을 알 수 없다.\n",
    "* 다른 패턴으로 문제를 해결 할 수 있을 때는 이 패턴을 쓰지 말아야 한다."
   ]
  },
  {
   "cell_type": "markdown",
   "metadata": {},
   "source": [
    "### 6.2.7 방탄 생성자 패턴\n",
    "* 자바스크립트에는 공용 프로퍼티가 없고 메서드가 this를 참조하지 않는 개체를 가리키는 '방탄 durable 객체'라는 용어가 있다.\n",
    "* this나 new의 사용을 금지하는 보안 환경, 매시업 어플리케이션 등에서 데이터를 써드파티 어플리케이션으로부터 보호하는데 가장 잘 어울림\n",
    "* '방탄 생성자'는 '기생 생성자 패턴'과 비슷한 패턴으로 만드는 생성자\n",
    "    * 두 가지 차이점\n",
    "        * 생성된 객체의 인스턴스 메서드가 this를 참조하지 않음\n",
    "        * 생성자를 new 연산자를 통해 호출하는 경우가 결코 없음"
   ]
  },
  {
   "cell_type": "code",
   "execution_count": null,
   "metadata": {},
   "outputs": [],
   "source": [
    "function Person(name, age, job) {\n",
    "    // 반환할 객체 생성\n",
    "    var o = new Object();\n",
    "    \n",
    "    // 옵션: 변수와 함수는 여기서 정의\n",
    "    \n",
    "    // 메서드 등록\n",
    "    o.sayName = function() {\n",
    "        console.log(name);\n",
    "    };\n",
    "    \n",
    "    return o;\n",
    "}"
   ]
  },
  {
   "cell_type": "markdown",
   "metadata": {},
   "source": [
    "* 반환된 객체의 name값에 접근할 방법이 없다."
   ]
  },
  {
   "cell_type": "code",
   "execution_count": null,
   "metadata": {},
   "outputs": [],
   "source": [
    "var person1 = new Person('jason', 38, 'developer');\n",
    "person1.sayName();"
   ]
  },
  {
   "cell_type": "markdown",
   "metadata": {},
   "source": [
    "* person변수 역시 방탄 객체이며, 객체에 등록된 메서드를 호출하지 않고서는 이 객체가 간직하는 데이터에 접근할 방법이 전혀 없다."
   ]
  },
  {
   "cell_type": "markdown",
   "metadata": {},
   "source": [
    "[Classes](https://developer.mozilla.org/ko/docs/Web/JavaScript/Reference/Classes)\n",
    "\n",
    "# Class 정의\n",
    "* class는 사실 함수\n",
    "* class 표현식과 class 선언 두 가지 방법을 제공합니다.\n",
    "\n",
    "## Class 선언"
   ]
  },
  {
   "cell_type": "code",
   "execution_count": null,
   "metadata": {},
   "outputs": [],
   "source": [
    "class Rectangle {\n",
    "  constructor(height, width) {\n",
    "    this.height = height;\n",
    "    this.width = width;\n",
    "  }\n",
    "}"
   ]
  },
  {
   "cell_type": "markdown",
   "metadata": {},
   "source": [
    "### Hoisting\n",
    "* 함수 선언과 클래스 선언의 중요한 차이점\n",
    "    * 함수 선언의 경우 호이스팅이 일어나지만, 클래스 선언은 그렇지 않다는 것입니다.\n",
    "    * 클래스를 사용하기 위해서는 클래스를 먼저 선언 해야 한다."
   ]
  },
  {
   "cell_type": "code",
   "execution_count": null,
   "metadata": {},
   "outputs": [],
   "source": [
    "const p = new Rectangle2();\n",
    "\n",
    "class Rectangle2 {} "
   ]
  },
  {
   "cell_type": "markdown",
   "metadata": {},
   "source": [
    "## Class 표현식\n",
    "* class를 정의 하는 다른 방법입니다.\n",
    "* Class 표현식은 이름을 가질 수도 있고, 갖지 않을 수도 있다.\n",
    "* 이름을 가진 class 표현식의 이름은 클래스의 body에 대해 local scope에 한해 유효"
   ]
  },
  {
   "cell_type": "code",
   "execution_count": null,
   "metadata": {},
   "outputs": [],
   "source": [
    "// unnamed\n",
    "var Rectangle = class {\n",
    "  constructor(height, width) {\n",
    "    this.height = height;\n",
    "    this.width = width;\n",
    "  }\n",
    "};\n",
    "console.log(Rectangle.name);"
   ]
  },
  {
   "cell_type": "code",
   "execution_count": null,
   "metadata": {},
   "outputs": [],
   "source": [
    "// named\n",
    "var Rectangle2 = class Rectangle2 {\n",
    "  constructor(height, width) {\n",
    "    this.height = height;\n",
    "    this.width = width;\n",
    "  }\n",
    "};\n",
    "console.log(Rectangle2.name);"
   ]
  },
  {
   "cell_type": "markdown",
   "metadata": {},
   "source": [
    "# Class body 와 method 정의\n",
    "* Class body는 중괄호 {} 로 묶여 있는 안쪽 부분\n",
    "    *  method이나 constructor와 같은 class members를 정의할 곳\n",
    "\n",
    "## Strict mode\n",
    "* 클래스 선언과 클래스 표현식의 본문(body)은 strict mode 에서 실행\n",
    "* 즉, 이 문서에 적힌 코드는 엄격한 문법이 적용되기 때문에 strict mode가 아닌 상태에서는 무시 되는 오류가 발생\n",
    "\n",
    "## Constructor (생성자)\n",
    "* constructor 메소드는 class 로 생성된 객체를 생성하고 초기화하기 위한 특수한 메소드\n",
    "* \"constructor\" 라는 이름을 가진 특수한 메소드는 클래스 안에 한 개만 존재할 수 있습니다. \n",
    "* 만약 클래스에 여러 개의 constructor 메소드가 존재하면 SyntaxError 가 발생할 것입니다.\n",
    "* constructor는 부모 클래스의 constructor 를 호출하기 위해 super 키워드를 사용할 수 있습니다.\n",
    "\n",
    "## Prototype methods"
   ]
  },
  {
   "cell_type": "code",
   "execution_count": null,
   "metadata": {},
   "outputs": [],
   "source": [
    "class Rectangle {\n",
    "  constructor(height, width) {\n",
    "    this.height = height;\n",
    "    this.width = width;\n",
    "  }\n",
    "    \n",
    "  // Getter\n",
    "  get area() {\n",
    "    return this.calcArea();\n",
    "  }\n",
    "    \n",
    "  // Method\n",
    "  calcArea() {\n",
    "    return this.height * this.width;\n",
    "  }\n",
    "}\n",
    "\n",
    "const square = new Rectangle(10, 10);\n",
    "console.log(square.area);"
   ]
  },
  {
   "cell_type": "markdown",
   "metadata": {},
   "source": [
    "## Static methods\n",
    "* static 키워드는 클래스를 위한 정적(static) 메소드를 정의합니다.\n",
    "* 정적 메소드는 클래스의 인스턴스화(instantiating) 없이 호출되며, 클래스의 인스턴스에서는 호출할 수 없습니다.\n",
    "* 정적 메소드는 어플리케이션(application)을 위한 유틸리티(utility) 함수를 생성하는데 주로 사용됩니다."
   ]
  },
  {
   "cell_type": "code",
   "execution_count": null,
   "metadata": {
    "scrolled": true
   },
   "outputs": [],
   "source": [
    "class Point {\n",
    "    constructor(x, y) {\n",
    "        this.x = x;\n",
    "        this.y = y;\n",
    "    }\n",
    "\n",
    "    static distance(a, b) {\n",
    "        const dx = a.x - b.x;\n",
    "        const dy = a.y - b.y;\n",
    "\n",
    "        return Math.hypot(dx, dy);\n",
    "    }\n",
    "}\n",
    "\n",
    "const p1 = new Point(5, 5);\n",
    "const p2 = new Point(10, 10);\n",
    "console.log(p1.distance);\n",
    "console.log(p2.distance);\n",
    "\n",
    "console.log(Point.distance(p1, p2));"
   ]
  },
  {
   "cell_type": "markdown",
   "metadata": {},
   "source": [
    "## Boxing with prototype and static methods\n",
    "### autoboxing이란?\n",
    "* 일반 함수에서 this는 window 객체를 가르키게 됩니다.\n",
    "* this가 window 객체 (global object)를 가르키는 이유는 autoboxing 덕분입니다.\n",
    "* non-strict 모드에서 this 값이 null 혹은 undefined 일 경우 window 객체(global object)로 자동으로 변환해 주는 것을 autoboxing이라고 합니다.\n",
    "\n",
    "\n",
    "* 정적 메소드나 프로토타입 메소드가 this 값 없이 호출될 때, this 값은 메소드 안에서 undefined가 됩니다.\n",
    "* 이 동작은  \"use strict\" 명령어 없이도 같은 방식으로 동작하는데, class 문법 안에 있는 코드는 항상 strict mode 로 실행되기 때문입니다."
   ]
  },
  {
   "cell_type": "code",
   "execution_count": null,
   "metadata": {},
   "outputs": [],
   "source": [
    "class Animal { \n",
    "  speak() {\n",
    "    return this;\n",
    "  }\n",
    "  static eat() {\n",
    "    return this;\n",
    "  }\n",
    "}"
   ]
  },
  {
   "cell_type": "code",
   "execution_count": null,
   "metadata": {},
   "outputs": [],
   "source": [
    "var obj = new Animal();\n",
    "obj.speak();"
   ]
  },
  {
   "cell_type": "code",
   "execution_count": null,
   "metadata": {},
   "outputs": [],
   "source": [
    "var speak = obj.speak;\n",
    "console.log(speak());"
   ]
  },
  {
   "cell_type": "code",
   "execution_count": null,
   "metadata": {},
   "outputs": [],
   "source": [
    "Animal.eat() // class Animal\n",
    "var eat = Animal.eat;\n",
    "console.log(eat());"
   ]
  },
  {
   "cell_type": "markdown",
   "metadata": {},
   "source": [
    "* 위에 작성된 전통적 방식의 함수기반의 구문으로 작성된 경우, 메서드 호출에서의 오토박싱은 this 초기값 기준의 non-strict mode로 발생하게 됩니다.\n",
    "* 만일 초기값이 undefine,이면, this는 전역객체로 설정됩니다.\n",
    "\n",
    "\n",
    "* Autoboxing은 strict mode 에서 발생하지 않으며, this 값은 그대로 유지됩니다."
   ]
  },
  {
   "cell_type": "code",
   "execution_count": null,
   "metadata": {},
   "outputs": [],
   "source": [
    "function Animal2() { }\n",
    "\n",
    "Animal2.prototype.speak = function() {\n",
    "  return this;\n",
    "}\n",
    "\n",
    "Animal2.eat = function() {\n",
    "  return this;\n",
    "}"
   ]
  },
  {
   "cell_type": "code",
   "execution_count": null,
   "metadata": {},
   "outputs": [],
   "source": [
    "var obj = new Animal2();\n",
    "var speak = obj.speak;\n",
    "speak();"
   ]
  },
  {
   "cell_type": "code",
   "execution_count": null,
   "metadata": {},
   "outputs": [],
   "source": [
    "var eat = Animal2.eat;\n",
    "eat();"
   ]
  },
  {
   "cell_type": "markdown",
   "metadata": {},
   "source": [
    "## Instance properties\n",
    "* 인스턴스 속성은 반드시 클래스 메서드 내에 정의되어야 합니다.:\n"
   ]
  },
  {
   "cell_type": "code",
   "execution_count": null,
   "metadata": {},
   "outputs": [],
   "source": [
    "class Rectangle {\n",
    "  constructor(height, width) {    \n",
    "    this.height = height;\n",
    "    this.width = width;\n",
    "  }\n",
    "}"
   ]
  },
  {
   "cell_type": "markdown",
   "metadata": {},
   "source": [
    "* 정적 (클래스사이드) 속성과 프로토타입 데이터 속성은 반드시 클래스 선언부 바깥쪽에서 정의되어야 합니다. "
   ]
  },
  {
   "cell_type": "code",
   "execution_count": null,
   "metadata": {},
   "outputs": [],
   "source": [
    "Rectangle.staticWidth = 20;\n",
    "Rectangle.prototype.prototypeWidth = 25;"
   ]
  },
  {
   "cell_type": "markdown",
   "metadata": {},
   "source": [
    "# extends를 통한 클래스 상속(sub classing)\n",
    "* extends 키워드는 클래스 선언이나 클래스 표현식에서 다른 클래스의 자식 클래스를 생성하기 위해 사용됩니다."
   ]
  },
  {
   "cell_type": "code",
   "execution_count": null,
   "metadata": {},
   "outputs": [],
   "source": [
    "class Animal { \n",
    "  constructor(name) {\n",
    "    this.name = name;\n",
    "  }\n",
    "  \n",
    "  speak() {\n",
    "    console.log(this.name + ' makes a noise.');\n",
    "  }\n",
    "}\n",
    "\n",
    "class Dog extends Animal {\n",
    "  speak() {\n",
    "    console.log(this.name + ' barks.');\n",
    "  }\n",
    "}"
   ]
  },
  {
   "cell_type": "markdown",
   "metadata": {},
   "source": [
    "* subclass에 constructor가 있다면, \"this\"를 사용하기 전에 가장 먼저 super()를 호출해야 합니다.\n",
    "\n",
    "\n",
    "* 또한 es5에서 사용되던 전통적인 함수 기반의 클래스를 통하여 확장할 수도 있습니다."
   ]
  },
  {
   "cell_type": "code",
   "execution_count": null,
   "metadata": {},
   "outputs": [],
   "source": [
    "function Animal2 (name) {\n",
    "  this.name = name;  \n",
    "}\n",
    "Animal2.prototype.speak = function () {\n",
    "  console.log(this.name + ' makes a noise.');\n",
    "}\n",
    "\n",
    "class Dog2 extends Animal2 {\n",
    "  speak() {\n",
    "    console.log(this.name + ' barks.');\n",
    "  }\n",
    "}\n",
    "\n",
    "var d = new Dog2('Mitzie');\n",
    "d.speak();"
   ]
  },
  {
   "cell_type": "markdown",
   "metadata": {},
   "source": [
    "클래스는 생성자가 없는 객체(non-constructible)을 확장할 수 없습니다. 만약 기존의 생성자가 없는 객체을 확장하고 싶다면, 이 메소드를 사용하세요. Object.setPrototypeOf():"
   ]
  },
  {
   "cell_type": "code",
   "execution_count": null,
   "metadata": {},
   "outputs": [],
   "source": [
    "var Animal3 = {\n",
    "  speak() {\n",
    "    console.log(this.name + ' makes a noise.');\n",
    "  }\n",
    "};\n",
    "\n",
    "class Dog3 extends Animal3{\n",
    "  constructor(name) {\n",
    "    this.name = name;\n",
    "  }\n",
    "  speak() {\n",
    "    console.log(this.name + ' barks.');\n",
    "  }\n",
    "}\n",
    "\n",
    "Object.setPrototypeOf(Dog3.prototype, Animal3);\n",
    "\n",
    "var d = new Dog3('Mitzie');\n",
    "d.speak();"
   ]
  },
  {
   "cell_type": "markdown",
   "metadata": {},
   "source": [
    "# super 를 통한 상위 클래스 호출\n",
    "* super 키워드는 객체의 부모가 가지고 있는 함수들을 호출하기 위해 사용됩니다.."
   ]
  },
  {
   "cell_type": "code",
   "execution_count": null,
   "metadata": {},
   "outputs": [],
   "source": [
    "class Cat { \n",
    "  constructor(name) {\n",
    "    this.name = name;\n",
    "  }\n",
    "  \n",
    "  speak() {\n",
    "    console.log(this.name + ' makes a noise.');\n",
    "  }\n",
    "}\n",
    "\n",
    "class Lion extends Cat {\n",
    "  speak() {\n",
    "    super.speak();\n",
    "    console.log(this.name + ' roars.');\n",
    "  }\n",
    "}"
   ]
  },
  {
   "cell_type": "code",
   "execution_count": null,
   "metadata": {},
   "outputs": [],
   "source": [
    "var lion = new Lion('saja');\n",
    "lion.speak();"
   ]
  }
 ],
 "metadata": {
  "kernelspec": {
   "display_name": "Javascript (Node.js)",
   "language": "javascript",
   "name": "javascript"
  },
  "language_info": {
   "file_extension": ".js",
   "mimetype": "application/javascript",
   "name": "javascript",
   "version": "8.9.4"
  }
 },
 "nbformat": 4,
 "nbformat_minor": 2
}

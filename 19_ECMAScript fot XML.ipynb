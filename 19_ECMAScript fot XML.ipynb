{
 "cells": [
  {
   "cell_type": "markdown",
   "metadata": {},
   "source": [
    "# 19장 XML을 위한 ECMAScript\n",
    "\n",
    "- 이 장은 파이어 폭스에서 구현한 내용을 중심으로 설명한다함\n",
    "\n",
    "## 요약\n",
    "\n",
    "- XML을 위한 ECMAScript(E4X)는 ECMA-357 명세에서 정의된 ECMAScript 확장입니다.\n",
    "- E4X의 목적은 XML 데이터를 표준 ECMAScript처럼 사용할 문법을 제공하는 것입니다. \n",
    "\n",
    "\n",
    "### E4X(ECMAScript for XML) 특징 \n",
    "- DOM과는 달리 XML에 존재하는 모든 노드 타입이 단 한 가지 타입으로 표현된다.\n",
    "- XML 객체에는 노드에 필요한 데이터와 동작방식이 모두 포함된다.\n",
    "- 여러 노드의 컬렉션은 XMLList 객체로 나타낸다.\n",
    "- 다른 타입인 Namespace 와 QName 은 각각 네임스페이스와 정규 이름을 나타낸다.\n",
    "- E4X는 표준 ECMAScript 문법을 다음과 같이 바꾸어서 XML 구조를 쿼리할 수 있게 했다. \n",
    "\n",
    "- ..는 자손 전체를 나타내며 @ 문자는 속성을 반환함을 나타낸다.\n",
    "- 아스테리스크(*) 문자는 주어진 타입의 노드 전체에 일치하는 와일드 카드 입니다.\n",
    "- 이들 쿼리와 똑같이 동작하는 메서드도 있다. \n",
    "\n",
    "\n",
    "### 참고 \n",
    "\n",
    "- ECMAScript for XML (E4X)는 JavaScript 안의 XML 컨텐트를 만들고 처리하는 강력한 기술입니다. 우리는 기존 DOM과의 transparent한 통합 추가를 포함하는 E4X 지원 향상을 계속할 예정이지만 XML 기반 웹 응용프로그램을 만드는(build) 개발자는 Firefox 1.5의 E4X 지원에서 이득을 얻을 수 있습니다.\n",
    "\n",
    "- 와 이걸 언제쓸까? 하고 찾아봄 \n",
    "https://www.kdata.or.kr/info/info_04_view.html?field=&keyword=&type=techreport&page=129&dbnum=128547&mode=detail&type=techreport\n"
   ]
  },
  {
   "cell_type": "code",
   "execution_count": null,
   "metadata": {},
   "outputs": [],
   "source": []
  }
 ],
 "metadata": {
  "kernelspec": {
   "display_name": "Javascript (Node.js)",
   "language": "javascript",
   "name": "javascript"
  },
  "language_info": {
   "file_extension": ".js",
   "mimetype": "application/javascript",
   "name": "javascript",
   "version": "8.9.4"
  }
 },
 "nbformat": 4,
 "nbformat_minor": 2
}
